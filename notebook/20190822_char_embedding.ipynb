{
 "cells": [
  {
   "cell_type": "markdown",
   "metadata": {},
   "source": [
    "# Character Embedding\n",
    "\n",
    "This notebook is about doing embedding on character from existing data."
   ]
  },
  {
   "cell_type": "code",
   "execution_count": 1,
   "metadata": {},
   "outputs": [],
   "source": [
    "import pandas as pd\n",
    "import numpy as np\n",
    "import gensim\n",
    "import pickle\n",
    "import os"
   ]
  },
  {
   "cell_type": "code",
   "execution_count": 2,
   "metadata": {},
   "outputs": [
    {
     "data": {
      "text/plain": [
       "'0.24.1'"
      ]
     },
     "execution_count": 2,
     "metadata": {},
     "output_type": "execute_result"
    }
   ],
   "source": [
    "pd.__version__ # Prev --> (0.23.4)\n",
    "# pip3 install pandas==0.24.1"
   ]
  },
  {
   "cell_type": "code",
   "execution_count": 3,
   "metadata": {},
   "outputs": [],
   "source": [
    "# PATH_DATA='../../data_ws/'\n",
    "PATH_DATA='../data/clean/'\n",
    "PATH_DATA_RAW='../data/raw/'"
   ]
  },
  {
   "cell_type": "code",
   "execution_count": 4,
   "metadata": {},
   "outputs": [
    {
     "data": {
      "text/plain": [
       "['data20.res',\n",
       " 'data25.res',\n",
       " 'data_10.res',\n",
       " 'data_15.res',\n",
       " 'data_clean_100k.res',\n",
       " 'readme.md']"
      ]
     },
     "execution_count": 4,
     "metadata": {},
     "output_type": "execute_result"
    }
   ],
   "source": [
    "os.listdir(PATH_DATA)"
   ]
  },
  {
   "cell_type": "markdown",
   "metadata": {},
   "source": [
    "## Get Data"
   ]
  },
  {
   "cell_type": "code",
   "execution_count": 5,
   "metadata": {},
   "outputs": [],
   "source": [
    "# data = np.loadtxt(PATH_DATA+'training.res')\n",
    "pickle_in = open(PATH_DATA+'data_clean_100k.res',\"rb\")\n",
    "pickle_in2 = open(PATH_DATA_RAW+'word_freq_lower.res',\"rb\")\n",
    "data_word = pickle.load(pickle_in)\n",
    "data_word_len = pickle.load(pickle_in2)\n",
    "\n",
    "# Standardize that after number must exist space\n",
    "# Standardize that after punctuation must exist space (but, how about website?)"
   ]
  },
  {
   "cell_type": "code",
   "execution_count": 6,
   "metadata": {},
   "outputs": [
    {
     "data": {
      "text/html": [
       "<div>\n",
       "<style scoped>\n",
       "    .dataframe tbody tr th:only-of-type {\n",
       "        vertical-align: middle;\n",
       "    }\n",
       "\n",
       "    .dataframe tbody tr th {\n",
       "        vertical-align: top;\n",
       "    }\n",
       "\n",
       "    .dataframe thead th {\n",
       "        text-align: right;\n",
       "    }\n",
       "</style>\n",
       "<table border=\"1\" class=\"dataframe\">\n",
       "  <thead>\n",
       "    <tr style=\"text-align: right;\">\n",
       "      <th></th>\n",
       "      <th>freq</th>\n",
       "      <th>word_len</th>\n",
       "    </tr>\n",
       "  </thead>\n",
       "  <tbody>\n",
       "    <tr>\n",
       "      <th>count</th>\n",
       "      <td>42298.000000</td>\n",
       "      <td>42298.000000</td>\n",
       "    </tr>\n",
       "    <tr>\n",
       "      <th>mean</th>\n",
       "      <td>27.550286</td>\n",
       "      <td>7.289659</td>\n",
       "    </tr>\n",
       "    <tr>\n",
       "      <th>std</th>\n",
       "      <td>272.994645</td>\n",
       "      <td>2.773738</td>\n",
       "    </tr>\n",
       "    <tr>\n",
       "      <th>min</th>\n",
       "      <td>1.000000</td>\n",
       "      <td>3.000000</td>\n",
       "    </tr>\n",
       "    <tr>\n",
       "      <th>25%</th>\n",
       "      <td>1.000000</td>\n",
       "      <td>5.000000</td>\n",
       "    </tr>\n",
       "    <tr>\n",
       "      <th>50%</th>\n",
       "      <td>2.000000</td>\n",
       "      <td>7.000000</td>\n",
       "    </tr>\n",
       "    <tr>\n",
       "      <th>75%</th>\n",
       "      <td>7.000000</td>\n",
       "      <td>9.000000</td>\n",
       "    </tr>\n",
       "    <tr>\n",
       "      <th>max</th>\n",
       "      <td>27004.000000</td>\n",
       "      <td>26.000000</td>\n",
       "    </tr>\n",
       "  </tbody>\n",
       "</table>\n",
       "</div>"
      ],
      "text/plain": [
       "               freq      word_len\n",
       "count  42298.000000  42298.000000\n",
       "mean      27.550286      7.289659\n",
       "std      272.994645      2.773738\n",
       "min        1.000000      3.000000\n",
       "25%        1.000000      5.000000\n",
       "50%        2.000000      7.000000\n",
       "75%        7.000000      9.000000\n",
       "max    27004.000000     26.000000"
      ]
     },
     "execution_count": 6,
     "metadata": {},
     "output_type": "execute_result"
    }
   ],
   "source": [
    "data_word_len['word_len']=data_word_len.word.apply(len)\n",
    "data_word_len[(data_word_len.word_len>2)&\n",
    "              (data_word_len.word_len<30)&\n",
    "              (~(data_word_len.word.str.contains('.com')))&\n",
    "              (~(data_word_len.word.str.contains('-')))&\n",
    "              (~(data_word_len.word.str.contains('/')))].describe()"
   ]
  },
  {
   "cell_type": "code",
   "execution_count": 7,
   "metadata": {},
   "outputs": [
    {
     "data": {
      "text/plain": [
       "(1900000, 2)"
      ]
     },
     "execution_count": 7,
     "metadata": {},
     "output_type": "execute_result"
    }
   ],
   "source": [
    "data_word.shape"
   ]
  },
  {
   "cell_type": "code",
   "execution_count": 8,
   "metadata": {},
   "outputs": [
    {
     "data": {
      "text/html": [
       "<div>\n",
       "<style scoped>\n",
       "    .dataframe tbody tr th:only-of-type {\n",
       "        vertical-align: middle;\n",
       "    }\n",
       "\n",
       "    .dataframe tbody tr th {\n",
       "        vertical-align: top;\n",
       "    }\n",
       "\n",
       "    .dataframe thead th {\n",
       "        text-align: right;\n",
       "    }\n",
       "</style>\n",
       "<table border=\"1\" class=\"dataframe\">\n",
       "  <thead>\n",
       "    <tr style=\"text-align: right;\">\n",
       "      <th></th>\n",
       "      <th>source</th>\n",
       "      <th>target</th>\n",
       "    </tr>\n",
       "  </thead>\n",
       "  <tbody>\n",
       "    <tr>\n",
       "      <th>789355</th>\n",
       "      <td>modalyanginstagramhome</td>\n",
       "      <td>modal yang instagram home</td>\n",
       "    </tr>\n",
       "    <tr>\n",
       "      <th>1299101</th>\n",
       "      <td>inisecara</td>\n",
       "      <td>ini secara</td>\n",
       "    </tr>\n",
       "    <tr>\n",
       "      <th>1055778</th>\n",
       "      <td>totalitu</td>\n",
       "      <td>total itu</td>\n",
       "    </tr>\n",
       "    <tr>\n",
       "      <th>1829750</th>\n",
       "      <td>bakalpartailain</td>\n",
       "      <td>bakal partai lain</td>\n",
       "    </tr>\n",
       "    <tr>\n",
       "      <th>1560589</th>\n",
       "      <td>tinggipadakita</td>\n",
       "      <td>tinggi pada kita</td>\n",
       "    </tr>\n",
       "    <tr>\n",
       "      <th>1154770</th>\n",
       "      <td>naikdan</td>\n",
       "      <td>naik dan</td>\n",
       "    </tr>\n",
       "    <tr>\n",
       "      <th>1149539</th>\n",
       "      <td>iniyang</td>\n",
       "      <td>ini yang</td>\n",
       "    </tr>\n",
       "    <tr>\n",
       "      <th>1321479</th>\n",
       "      <td>darilap</td>\n",
       "      <td>dari lap</td>\n",
       "    </tr>\n",
       "    <tr>\n",
       "      <th>1444452</th>\n",
       "      <td>ituuntuksiaran</td>\n",
       "      <td>itu untuk siaran</td>\n",
       "    </tr>\n",
       "    <tr>\n",
       "      <th>39560</th>\n",
       "      <td>membukadenganuntuk</td>\n",
       "      <td>membuka dengan untuk</td>\n",
       "    </tr>\n",
       "  </tbody>\n",
       "</table>\n",
       "</div>"
      ],
      "text/plain": [
       "                         source                     target\n",
       "789355   modalyanginstagramhome  modal yang instagram home\n",
       "1299101               inisecara                 ini secara\n",
       "1055778                totalitu                  total itu\n",
       "1829750         bakalpartailain          bakal partai lain\n",
       "1560589          tinggipadakita           tinggi pada kita\n",
       "1154770                 naikdan                   naik dan\n",
       "1149539                 iniyang                   ini yang\n",
       "1321479                 darilap                   dari lap\n",
       "1444452          ituuntuksiaran           itu untuk siaran\n",
       "39560        membukadenganuntuk       membuka dengan untuk"
      ]
     },
     "execution_count": 8,
     "metadata": {},
     "output_type": "execute_result"
    }
   ],
   "source": [
    "data_word.sample(10)"
   ]
  },
  {
   "cell_type": "code",
   "execution_count": 9,
   "metadata": {},
   "outputs": [],
   "source": [
    "training_corpus=data_word['source']"
   ]
  },
  {
   "cell_type": "code",
   "execution_count": 10,
   "metadata": {},
   "outputs": [],
   "source": [
    "training_list_char=[list(ss.lower()) for ss in training_corpus]"
   ]
  },
  {
   "cell_type": "code",
   "execution_count": 11,
   "metadata": {},
   "outputs": [],
   "source": [
    "model25 = gensim.models.Word2Vec(training_list_char, window=8, min_count=5,size=25)\n",
    "model50 = gensim.models.Word2Vec(training_list_char, window=8, min_count=5,size=50)\n",
    "model75 = gensim.models.Word2Vec(training_list_char, window=8, min_count=5,size=75)"
   ]
  },
  {
   "cell_type": "code",
   "execution_count": 13,
   "metadata": {},
   "outputs": [
    {
     "data": {
      "text/plain": [
       "{'i': <gensim.models.keyedvectors.Vocab at 0x1a2eaba940>,\n",
       " 't': <gensim.models.keyedvectors.Vocab at 0x1a2eaba978>,\n",
       " 'u': <gensim.models.keyedvectors.Vocab at 0x1a2eaba9b0>,\n",
       " 'm': <gensim.models.keyedvectors.Vocab at 0x1a2eaba9e8>,\n",
       " 'l': <gensim.models.keyedvectors.Vocab at 0x1a2eabaa20>,\n",
       " 's': <gensim.models.keyedvectors.Vocab at 0x1a2eabaa58>,\n",
       " 'h': <gensim.models.keyedvectors.Vocab at 0x1a2eabaa90>,\n",
       " 'o': <gensim.models.keyedvectors.Vocab at 0x1a2eabaac8>,\n",
       " 'n': <gensim.models.keyedvectors.Vocab at 0x1a2eabab00>,\n",
       " 'g': <gensim.models.keyedvectors.Vocab at 0x1a2eabab38>,\n",
       " 'a': <gensim.models.keyedvectors.Vocab at 0x1a2eabab70>,\n",
       " 'k': <gensim.models.keyedvectors.Vocab at 0x1a2eababa8>,\n",
       " 'y': <gensim.models.keyedvectors.Vocab at 0x1a2eababe0>,\n",
       " 'p': <gensim.models.keyedvectors.Vocab at 0x1a2eabac18>,\n",
       " 'e': <gensim.models.keyedvectors.Vocab at 0x1a2eabac50>,\n",
       " 'b': <gensim.models.keyedvectors.Vocab at 0x1a2eabac88>,\n",
       " 'r': <gensim.models.keyedvectors.Vocab at 0x1a2eabacc0>,\n",
       " 'j': <gensim.models.keyedvectors.Vocab at 0x1a2eabacf8>,\n",
       " 'd': <gensim.models.keyedvectors.Vocab at 0x1a2eabad30>,\n",
       " 'w': <gensim.models.keyedvectors.Vocab at 0x1a2eabad68>,\n",
       " 'f': <gensim.models.keyedvectors.Vocab at 0x1a2eabada0>,\n",
       " 'v': <gensim.models.keyedvectors.Vocab at 0x1a2eabadd8>,\n",
       " 'c': <gensim.models.keyedvectors.Vocab at 0x1a2eabae10>,\n",
       " 'z': <gensim.models.keyedvectors.Vocab at 0x1a2eabae48>,\n",
       " 'x': <gensim.models.keyedvectors.Vocab at 0x1a2eabae80>,\n",
       " 'q': <gensim.models.keyedvectors.Vocab at 0x1a2eabaeb8>}"
      ]
     },
     "execution_count": 13,
     "metadata": {},
     "output_type": "execute_result"
    }
   ],
   "source": [
    "model25.wv.vocab"
   ]
  },
  {
   "cell_type": "code",
   "execution_count": 20,
   "metadata": {},
   "outputs": [
    {
     "data": {
      "text/plain": [
       "[('q', 0.7610012888908386),\n",
       " ('c', 0.5332533121109009),\n",
       " ('o', 0.5168983936309814),\n",
       " ('f', 0.4637942910194397),\n",
       " ('v', 0.4534090459346771),\n",
       " ('l', 0.36208823323249817),\n",
       " ('i', 0.34110650420188904),\n",
       " ('s', 0.29706665873527527),\n",
       " ('t', 0.24835117161273956),\n",
       " ('x', 0.23739416897296906)]"
      ]
     },
     "execution_count": 20,
     "metadata": {},
     "output_type": "execute_result"
    }
   ],
   "source": [
    "model25.wv.similar_by_word('z')"
   ]
  },
  {
   "cell_type": "code",
   "execution_count": 21,
   "metadata": {},
   "outputs": [
    {
     "data": {
      "text/plain": [
       "[('q', 0.7490050792694092),\n",
       " ('o', 0.5615811944007874),\n",
       " ('c', 0.550098717212677),\n",
       " ('f', 0.4848199784755707),\n",
       " ('v', 0.4500850737094879),\n",
       " ('i', 0.38591673970222473),\n",
       " ('l', 0.3283540904521942),\n",
       " ('s', 0.3084544539451599),\n",
       " ('t', 0.24884596467018127),\n",
       " ('r', 0.20908336341381073)]"
      ]
     },
     "execution_count": 21,
     "metadata": {},
     "output_type": "execute_result"
    }
   ],
   "source": [
    "model50.wv.similar_by_word('z')"
   ]
  },
  {
   "cell_type": "code",
   "execution_count": 22,
   "metadata": {},
   "outputs": [
    {
     "data": {
      "text/plain": [
       "[('q', 0.7941312789916992),\n",
       " ('o', 0.5386285185813904),\n",
       " ('c', 0.5168725252151489),\n",
       " ('f', 0.5040104985237122),\n",
       " ('v', 0.4821275472640991),\n",
       " ('i', 0.4515276849269867),\n",
       " ('l', 0.3715077340602875),\n",
       " ('s', 0.28307396173477173),\n",
       " ('r', 0.247741237282753),\n",
       " ('t', 0.218733012676239)]"
      ]
     },
     "execution_count": 22,
     "metadata": {},
     "output_type": "execute_result"
    }
   ],
   "source": [
    "model75.wv.similar_by_word('z')"
   ]
  },
  {
   "cell_type": "code",
   "execution_count": null,
   "metadata": {},
   "outputs": [],
   "source": []
  },
  {
   "cell_type": "code",
   "execution_count": 23,
   "metadata": {},
   "outputs": [],
   "source": [
    "model25.save('../models/char_embed_25.res')\n",
    "model50.save('../models/char_embed_50.res')\n",
    "model75.save('../models/char_embed_75.res')"
   ]
  },
  {
   "cell_type": "code",
   "execution_count": null,
   "metadata": {},
   "outputs": [],
   "source": []
  }
 ],
 "metadata": {
  "kernelspec": {
   "display_name": "Python 3",
   "language": "python",
   "name": "python3"
  },
  "language_info": {
   "codemirror_mode": {
    "name": "ipython",
    "version": 3
   },
   "file_extension": ".py",
   "mimetype": "text/x-python",
   "name": "python",
   "nbconvert_exporter": "python",
   "pygments_lexer": "ipython3",
   "version": "3.7.3"
  }
 },
 "nbformat": 4,
 "nbformat_minor": 2
}
