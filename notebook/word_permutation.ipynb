{
 "cells": [
  {
   "cell_type": "code",
   "execution_count": 1,
   "metadata": {},
   "outputs": [],
   "source": [
    "import pickle\n",
    "import re\n",
    "import pandas as pd\n",
    "import numpy as np\n",
    "import os"
   ]
  },
  {
   "cell_type": "code",
   "execution_count": 2,
   "metadata": {},
   "outputs": [],
   "source": [
    "file_path = os.path.join('data','raw','word_freq_lower.res')\n",
    "\n",
    "with open(file_path, 'rb') as filename: \n",
    "    df_word_freq = pickle.load(filename)"
   ]
  },
  {
   "cell_type": "code",
   "execution_count": 3,
   "metadata": {
    "scrolled": true
   },
   "outputs": [],
   "source": [
    "df_word_freq['keep'] = df_word_freq['word'].map(lambda x: bool(re.match('^[a-z]+$', x)))\n",
    "\n",
    "df_word_freq = df_word_freq.loc[df_word_freq['keep']]\n",
    "df_word_freq['prob'] = df_word_freq['freq'] / df_word_freq['freq'].sum()\n"
   ]
  },
  {
   "cell_type": "code",
   "execution_count": 4,
   "metadata": {},
   "outputs": [],
   "source": [
    "total_sentence = 10 \n",
    "min_word = 2\n",
    "max_word = 5\n",
    "\n",
    "list_sentence = []\n",
    "\n",
    "for i in range(total_sentence):\n",
    "    sentence = []\n",
    "    random_word_size = np.random.randint(min_word, max_word + 1)\n",
    "    for j in range(random_word_size):\n",
    "        contained = True # ensure no duplicate word in same sentence\n",
    "        while contained: \n",
    "            word = np.random.choice(df_word_freq.word, p=df_word_freq.prob)\n",
    "            contained = word in sentence\n",
    "        sentence.append(word)\n",
    "        \n",
    "    list_sentence.append(' '.join(sentence))\n",
    "        "
   ]
  },
  {
   "cell_type": "code",
   "execution_count": 5,
   "metadata": {},
   "outputs": [
    {
     "data": {
      "text/plain": [
       "['menang negara',\n",
       " 'yang masyarakat kartu sebesar pernah',\n",
       " 'kiper mengatakan',\n",
       " 'membalikkan meragukan dia kelas rupiah',\n",
       " 'pada mendapatkan mengubah kabel paul',\n",
       " 'seperti mui plus tampil',\n",
       " 'ujar setoran sudah pada',\n",
       " 'ke saya real',\n",
       " 'sampah awal level',\n",
       " 'merger investasi ini the']"
      ]
     },
     "execution_count": 5,
     "metadata": {},
     "output_type": "execute_result"
    }
   ],
   "source": [
    "list_sentence"
   ]
  }
 ],
 "metadata": {
  "kernelspec": {
   "display_name": "Python 3",
   "language": "python",
   "name": "python3"
  },
  "language_info": {
   "codemirror_mode": {
    "name": "ipython",
    "version": 3
   },
   "file_extension": ".py",
   "mimetype": "text/x-python",
   "name": "python",
   "nbconvert_exporter": "python",
   "pygments_lexer": "ipython3",
   "version": "3.7.3"
  }
 },
 "nbformat": 4,
 "nbformat_minor": 2
}
