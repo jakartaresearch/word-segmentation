{
 "cells": [
  {
   "cell_type": "code",
   "execution_count": 1,
   "metadata": {},
   "outputs": [],
   "source": [
    "import pickle\n",
    "import re\n",
    "import pandas as pd\n",
    "import numpy as np\n",
    "import os"
   ]
  },
  {
   "cell_type": "code",
   "execution_count": 11,
   "metadata": {},
   "outputs": [],
   "source": [
    "np.random.seed(123)"
   ]
  },
  {
   "cell_type": "code",
   "execution_count": 3,
   "metadata": {},
   "outputs": [],
   "source": [
    "file_path = os.path.join('..','data','raw','word_freq_lower.res')\n",
    "\n",
    "with open(file_path, 'rb') as filename: \n",
    "    df_word_freq = pickle.load(filename)"
   ]
  },
  {
   "cell_type": "code",
   "execution_count": 5,
   "metadata": {
    "scrolled": true
   },
   "outputs": [
    {
     "name": "stderr",
     "output_type": "stream",
     "text": [
      "C:\\Users\\Andreas Chandra\\AppData\\Local\\Continuum\\anaconda3\\lib\\site-packages\\ipykernel_launcher.py:4: SettingWithCopyWarning: \n",
      "A value is trying to be set on a copy of a slice from a DataFrame.\n",
      "Try using .loc[row_indexer,col_indexer] = value instead\n",
      "\n",
      "See the caveats in the documentation: http://pandas.pydata.org/pandas-docs/stable/indexing.html#indexing-view-versus-copy\n",
      "  after removing the cwd from sys.path.\n"
     ]
    }
   ],
   "source": [
    "df_word_freq['keep'] = df_word_freq['word'].map(lambda x: bool(re.match('^[a-z]+$', x)))\n",
    "\n",
    "df_word_freq = df_word_freq.loc[df_word_freq['keep']]\n",
    "df_word_freq['prob'] = df_word_freq['freq'] / df_word_freq['freq'].sum()\n"
   ]
  },
  {
   "cell_type": "code",
   "execution_count": 12,
   "metadata": {},
   "outputs": [],
   "source": [
    "total_sentence = 10 \n",
    "min_word = 2\n",
    "max_word = 5\n",
    "\n",
    "list_sentence = []\n",
    "\n",
    "for i in range(total_sentence):\n",
    "    sentence = []\n",
    "    random_word_size = np.random.randint(min_word, max_word + 1)\n",
    "    for j in range(random_word_size):\n",
    "        contained = True # ensure no duplicate word in same sentence\n",
    "        while contained: \n",
    "            word = np.random.choice(df_word_freq.word, p=df_word_freq.prob)\n",
    "            contained = word in sentence\n",
    "        sentence.append(word)\n",
    "        \n",
    "    list_sentence.append(' '.join(sentence))\n",
    "        "
   ]
  },
  {
   "cell_type": "code",
   "execution_count": 13,
   "metadata": {},
   "outputs": [
    {
     "data": {
      "text/plain": [
       "['top mandiri sekaligus kepercayaan',\n",
       " 'masa callum jenis lagi',\n",
       " 'ekonomi jebolnya lebih',\n",
       " 'yang waktu bukti adalah',\n",
       " 'pada struktur bulog kedua',\n",
       " 'menggodok berhenti ac berbagai tersebut',\n",
       " 'mulai perkerjaan arah jadwal di',\n",
       " 'hal kami indonesia honor',\n",
       " 'intermediate kondisi penyebab sudah',\n",
       " 'menuturkan nation penjualan kepala richarlison']"
      ]
     },
     "execution_count": 13,
     "metadata": {},
     "output_type": "execute_result"
    }
   ],
   "source": [
    "list_sentence"
   ]
  },
  {
   "cell_type": "code",
   "execution_count": null,
   "metadata": {},
   "outputs": [],
   "source": []
  }
 ],
 "metadata": {
  "kernelspec": {
   "display_name": "Python 3",
   "language": "python",
   "name": "python3"
  },
  "language_info": {
   "codemirror_mode": {
    "name": "ipython",
    "version": 3
   },
   "file_extension": ".py",
   "mimetype": "text/x-python",
   "name": "python",
   "nbconvert_exporter": "python",
   "pygments_lexer": "ipython3",
   "version": "3.7.3"
  }
 },
 "nbformat": 4,
 "nbformat_minor": 2
}
