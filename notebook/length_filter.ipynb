{
 "cells": [
  {
   "cell_type": "markdown",
   "metadata": {},
   "source": [
    "## word permutation with filter length"
   ]
  },
  {
   "cell_type": "code",
   "execution_count": 1,
   "metadata": {},
   "outputs": [],
   "source": [
    "import pickle\n",
    "import re\n",
    "import pandas as pd\n",
    "import numpy as np\n",
    "import os"
   ]
  },
  {
   "cell_type": "markdown",
   "metadata": {},
   "source": [
    "Read file word frequency"
   ]
  },
  {
   "cell_type": "code",
   "execution_count": 2,
   "metadata": {},
   "outputs": [],
   "source": [
    "file_path = os.path.join('..','data','raw','word_freq_lower.res')\n",
    "\n",
    "with open(file_path, 'rb') as filename: \n",
    "    df_word_freq = pickle.load(filename)"
   ]
  },
  {
   "cell_type": "markdown",
   "metadata": {},
   "source": [
    "cleansing and calculating probability"
   ]
  },
  {
   "cell_type": "code",
   "execution_count": 3,
   "metadata": {
    "scrolled": true
   },
   "outputs": [],
   "source": [
    "df_word_freq['keep'] = df_word_freq['word'].map(lambda x: bool(re.match('^[a-z]+$', x)))\n",
    "\n",
    "df_word_freq = df_word_freq.loc[df_word_freq['keep']]\n",
    "df_word_freq['prob'] = df_word_freq['freq'] / df_word_freq['freq'].sum()\n"
   ]
  },
  {
   "cell_type": "code",
   "execution_count": 5,
   "metadata": {},
   "outputs": [],
   "source": [
    "np.random.seed(123)\n",
    "\n",
    "total_sentence = 10\n",
    "min_word = 2\n",
    "max_word = 5\n",
    "fix_length_list = [10, 15, 20, 25]\n",
    "\n",
    "sentence_list = []\n",
    "\n",
    "len_sent_dict = {\n",
    "    10: 0,\n",
    "    15: 0,\n",
    "    20: 0,\n",
    "    25: 0\n",
    "}\n",
    "\n",
    "\n",
    "# for i in range(total_sentence):\n",
    "while True:\n",
    "    word_list = []\n",
    "    random_word_size = np.random.randint(min_word, max_word + 1)\n",
    "    for j in range(random_word_size):\n",
    "        contained = True # ensure no duplicate word in same sentence\n",
    "        while contained: \n",
    "            word = np.random.choice(df_word_freq.word, p=df_word_freq.prob)\n",
    "            contained = word in word_list\n",
    "        word_list.append(word)\n",
    "        \n",
    "    sentence = ' '.join(word_list)\n",
    "    sentence_nospace = ''.join(word_list)\n",
    "    \n",
    "    len_sentence = len(sentence_nospace)\n",
    "    \n",
    "    # if total sentence in all fix length fullfilled then stop\n",
    "    if len(sentence_list) == (total_sentence * len(fix_length_list)):\n",
    "        break\n",
    "    \n",
    "    # if sentence length is in fix length list then input to total sentence\n",
    "    if len_sentence in fix_length_list:\n",
    "        if len_sent_dict[len_sentence] < total_sentence:\n",
    "            \n",
    "            sentence_list.append([sentence_nospace, sentence])\n",
    "            len_sent_dict[len_sentence] += 1"
   ]
  },
  {
   "cell_type": "markdown",
   "metadata": {},
   "source": [
    "## data frame"
   ]
  },
  {
   "cell_type": "markdown",
   "metadata": {},
   "source": [
    "make dataframe"
   ]
  },
  {
   "cell_type": "code",
   "execution_count": 6,
   "metadata": {},
   "outputs": [],
   "source": [
    "d_data = pd.DataFrame(sentence_list)\n",
    "d_data.columns = [\"source\", \"target\"]"
   ]
  }
 ],
 "metadata": {
  "kernelspec": {
   "display_name": "Python 3",
   "language": "python",
   "name": "python3"
  },
  "language_info": {
   "codemirror_mode": {
    "name": "ipython",
    "version": 3
   },
   "file_extension": ".py",
   "mimetype": "text/x-python",
   "name": "python",
   "nbconvert_exporter": "python",
   "pygments_lexer": "ipython3",
   "version": "3.7.3"
  }
 },
 "nbformat": 4,
 "nbformat_minor": 2
}
