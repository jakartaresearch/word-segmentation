{
 "cells": [
  {
   "cell_type": "markdown",
   "metadata": {},
   "source": [
    "# Word Segmentation Modelling (version : alam.1.1)\n",
    "\n",
    "This is the modelling documentation of Word Segmentation\n",
    "\n",
    "First Structured :\n",
    "\n",
    "\n",
    "Input :\n",
    "\n",
    "    INPUT LENGTH =15\n",
    "    TRAIN = 90k data (Random state : 342)\n",
    "    \n",
    "\n",
    "\n",
    "\n",
    "output :\n",
    "\n",
    "\n",
    "## Plan\n",
    "\n",
    "    [*] Get Data\n",
    "    [*] Transform the data\n",
    "    [ ] Prepare the model\n",
    "    [ ] Train it"
   ]
  },
  {
   "cell_type": "code",
   "execution_count": 1,
   "metadata": {},
   "outputs": [],
   "source": [
    "import sys\n",
    "sys.path.append('../scr/')\n",
    "import pandas as pd\n",
    "import torch\n",
    "import numpy as np\n",
    "import os\n",
    "import pickle\n",
    "import WordSegmenTools as wst\n",
    "from torch.autograd import Variable\n"
   ]
  },
  {
   "cell_type": "code",
   "execution_count": 2,
   "metadata": {},
   "outputs": [],
   "source": [
    "PATH_DATA_RAW='../../data/raw/'\n",
    "PATH_DATA_CLN='../../data/clean/'\n",
    "PATH_MODEL='../../data/model/'"
   ]
  },
  {
   "cell_type": "code",
   "execution_count": 3,
   "metadata": {},
   "outputs": [
    {
     "data": {
      "text/plain": [
       "['data_clean_100k.res']"
      ]
     },
     "execution_count": 3,
     "metadata": {},
     "output_type": "execute_result"
    }
   ],
   "source": [
    "os.listdir(PATH_DATA_CLN)"
   ]
  },
  {
   "cell_type": "code",
   "execution_count": null,
   "metadata": {},
   "outputs": [],
   "source": []
  },
  {
   "cell_type": "markdown",
   "metadata": {},
   "source": [
    "## Get Data"
   ]
  },
  {
   "cell_type": "code",
   "execution_count": 4,
   "metadata": {},
   "outputs": [],
   "source": [
    "INPUT_LENGTH=15"
   ]
  },
  {
   "cell_type": "code",
   "execution_count": 5,
   "metadata": {},
   "outputs": [],
   "source": [
    "# data_cln=pd.read_csv(PATH_DATA_CLN+'data_clean_100k.res')\n",
    "data_cln=pickle.load(open(PATH_DATA_CLN+'data_clean_100k.res','rb'))"
   ]
  },
  {
   "cell_type": "code",
   "execution_count": 6,
   "metadata": {},
   "outputs": [],
   "source": [
    "data_cln['len_source']=data_cln.source.apply(len)\n",
    "data_used=data_cln[data_cln.len_source==INPUT_LENGTH]\n",
    "data_used=data_used.reset_index()[['source','target','index']]\n",
    "data_used.columns=['source','target','ids']"
   ]
  },
  {
   "cell_type": "code",
   "execution_count": 7,
   "metadata": {},
   "outputs": [
    {
     "data": {
      "text/html": [
       "<div>\n",
       "<style scoped>\n",
       "    .dataframe tbody tr th:only-of-type {\n",
       "        vertical-align: middle;\n",
       "    }\n",
       "\n",
       "    .dataframe tbody tr th {\n",
       "        vertical-align: top;\n",
       "    }\n",
       "\n",
       "    .dataframe thead th {\n",
       "        text-align: right;\n",
       "    }\n",
       "</style>\n",
       "<table border=\"1\" class=\"dataframe\">\n",
       "  <thead>\n",
       "    <tr style=\"text-align: right;\">\n",
       "      <th></th>\n",
       "      <th>source</th>\n",
       "      <th>target</th>\n",
       "      <th>ids</th>\n",
       "    </tr>\n",
       "  </thead>\n",
       "  <tbody>\n",
       "    <tr>\n",
       "      <th>36198</th>\n",
       "      <td>sudahitupertama</td>\n",
       "      <td>sudah itu pertama</td>\n",
       "      <td>1571209</td>\n",
       "    </tr>\n",
       "    <tr>\n",
       "      <th>50419</th>\n",
       "      <td>diapoinlalubisa</td>\n",
       "      <td>dia poin lalu bisa</td>\n",
       "      <td>1638521</td>\n",
       "    </tr>\n",
       "    <tr>\n",
       "      <th>50095</th>\n",
       "      <td>kepadayanglepas</td>\n",
       "      <td>kepada yang lepas</td>\n",
       "      <td>1636987</td>\n",
       "    </tr>\n",
       "    <tr>\n",
       "      <th>54026</th>\n",
       "      <td>iniemasakanpssi</td>\n",
       "      <td>ini emas akan pssi</td>\n",
       "      <td>1655633</td>\n",
       "    </tr>\n",
       "    <tr>\n",
       "      <th>95416</th>\n",
       "      <td>saatharustampil</td>\n",
       "      <td>saat harus tampil</td>\n",
       "      <td>1852455</td>\n",
       "    </tr>\n",
       "    <tr>\n",
       "      <th>68649</th>\n",
       "      <td>kestadionsecara</td>\n",
       "      <td>ke stadion secara</td>\n",
       "      <td>1724854</td>\n",
       "    </tr>\n",
       "    <tr>\n",
       "      <th>14332</th>\n",
       "      <td>beberapaberarti</td>\n",
       "      <td>beberapa berarti</td>\n",
       "      <td>1467352</td>\n",
       "    </tr>\n",
       "    <tr>\n",
       "      <th>31970</th>\n",
       "      <td>ladiskonpranowo</td>\n",
       "      <td>la diskon pranowo</td>\n",
       "      <td>1551072</td>\n",
       "    </tr>\n",
       "    <tr>\n",
       "      <th>42282</th>\n",
       "      <td>satubeberapaitu</td>\n",
       "      <td>satu beberapa itu</td>\n",
       "      <td>1600506</td>\n",
       "    </tr>\n",
       "    <tr>\n",
       "      <th>38921</th>\n",
       "      <td>afckepadaantara</td>\n",
       "      <td>afc kepada antara</td>\n",
       "      <td>1584568</td>\n",
       "    </tr>\n",
       "  </tbody>\n",
       "</table>\n",
       "</div>"
      ],
      "text/plain": [
       "                source              target      ids\n",
       "36198  sudahitupertama   sudah itu pertama  1571209\n",
       "50419  diapoinlalubisa  dia poin lalu bisa  1638521\n",
       "50095  kepadayanglepas   kepada yang lepas  1636987\n",
       "54026  iniemasakanpssi  ini emas akan pssi  1655633\n",
       "95416  saatharustampil   saat harus tampil  1852455\n",
       "68649  kestadionsecara   ke stadion secara  1724854\n",
       "14332  beberapaberarti    beberapa berarti  1467352\n",
       "31970  ladiskonpranowo   la diskon pranowo  1551072\n",
       "42282  satubeberapaitu   satu beberapa itu  1600506\n",
       "38921  afckepadaantara   afc kepada antara  1584568"
      ]
     },
     "execution_count": 7,
     "metadata": {},
     "output_type": "execute_result"
    }
   ],
   "source": [
    "data_used.sample(10)"
   ]
  },
  {
   "cell_type": "markdown",
   "metadata": {},
   "source": [
    "## Transform Data"
   ]
  },
  {
   "cell_type": "code",
   "execution_count": 8,
   "metadata": {},
   "outputs": [],
   "source": [
    "data_used['flag_space'] = data_used['target'].map(wst.get_flag_space)\n",
    "word2idx, idx2word = wst.get_label_index(data_used.source)"
   ]
  },
  {
   "cell_type": "code",
   "execution_count": 9,
   "metadata": {},
   "outputs": [],
   "source": [
    "data_used_train=data_used.sample(90000,random_state=342)\n",
    "data_used_test=data_used[~(data_used.ids.isin(data_used_train.ids))]"
   ]
  },
  {
   "cell_type": "code",
   "execution_count": 10,
   "metadata": {},
   "outputs": [],
   "source": [
    "## Target \n",
    "Y_tr=np.array(data_used_train.flag_space.apply(list).tolist(),dtype=np.double)\n",
    "Y_te=np.array(data_used_test.flag_space.apply(list).tolist(),dtype=np.double)\n",
    "\n",
    "## Source\n",
    "X_tr=wst.char_vectorizer(data_used_train.source.tolist(), word2idx, INPUT_LENGTH)\n",
    "X_te=wst.char_vectorizer(data_used_test.source.tolist(), word2idx, INPUT_LENGTH)"
   ]
  },
  {
   "cell_type": "code",
   "execution_count": null,
   "metadata": {},
   "outputs": [],
   "source": []
  },
  {
   "cell_type": "code",
   "execution_count": 11,
   "metadata": {},
   "outputs": [
    {
     "data": {
      "text/plain": [
       "(90000, 15, 26)"
      ]
     },
     "execution_count": 11,
     "metadata": {},
     "output_type": "execute_result"
    }
   ],
   "source": [
    "X_tr.shape"
   ]
  },
  {
   "cell_type": "code",
   "execution_count": null,
   "metadata": {},
   "outputs": [],
   "source": []
  },
  {
   "cell_type": "markdown",
   "metadata": {},
   "source": [
    "## Prepare the Model"
   ]
  },
  {
   "cell_type": "code",
   "execution_count": 12,
   "metadata": {},
   "outputs": [],
   "source": [
    "## LSTM Example\n",
    "class ModelLstm(torch.nn.Module):\n",
    "\n",
    "    def __init__(self, input_size, output_size, hidden_dim):        \n",
    "        super(ModelLstm, self).__init__()\n",
    "        self.input_dim = input_size\n",
    "        self.hidden_dim = hidden_dim\n",
    "\n",
    "        # self.lstm = torch.nn.LSTM(self.input_dim, self.hidden_dim, self.num_layers)\n",
    "        self.lstm = torch.nn.LSTM(self.input_dim, self.hidden_dim, bidirectional=True)\n",
    "        self.linear = torch.nn.Linear(self.hidden_dim*2, output_size)\n",
    "        self.sigmoid = torch.nn.Sigmoid()\n",
    "\n",
    "    # Why do sometimes need hidden init sometimes dont?\n",
    "    def init_hidden(self,embed_len,batch):\n",
    "        # This is what we'll initialise our hidden state as\n",
    "        return (torch.zeros(embed_len, batch, self.hidden_dim),\n",
    "               torch.zeros(embed_len, batch, self.hidden_dim))\n",
    "\n",
    "    def forward(self, input):\n",
    "        torch.manual_seed(200)\n",
    "        batch_size=len(input)\n",
    "        embedding_len=len(input[0][0])        \n",
    "        input=input.view(batch_size,len(input[0]), -1)\n",
    "        \n",
    "        lstm_out, hidden2 = self.lstm(input)\n",
    "        # lstm_out,h = self.lstm(input)\n",
    "        \n",
    "        # Only take the output from the final timetep\n",
    "        out = lstm_out[:,-1]   \n",
    "        out = out.view(batch_size,-1)\n",
    "        y_pred = self.linear(out)\n",
    "        y_pred = self.sigmoid(y_pred)\n",
    "        \n",
    "        return y_pred,'-'\n",
    "    \n",
    "## Remember : Batch, Seq, Embedding"
   ]
  },
  {
   "cell_type": "code",
   "execution_count": null,
   "metadata": {},
   "outputs": [],
   "source": []
  },
  {
   "cell_type": "code",
   "execution_count": 13,
   "metadata": {},
   "outputs": [],
   "source": [
    "def data_batching_torch(X,y,batch):\n",
    "    batches=[(torch.from_numpy(X[i*(batch):i*(batch)+batch]).type('torch.DoubleTensor'),torch.from_numpy(y[i*(batch):i*(batch)+batch]).type('torch.DoubleTensor'))   \n",
    "                  for i in range(int(len(X)/batch)+1)]\n",
    "    return batches"
   ]
  },
  {
   "cell_type": "code",
   "execution_count": 14,
   "metadata": {},
   "outputs": [
    {
     "data": {
      "text/plain": [
       "3601"
      ]
     },
     "execution_count": 14,
     "metadata": {},
     "output_type": "execute_result"
    }
   ],
   "source": [
    "BATCH_SIZE=25\n",
    "training_samples=data_batching_torch(X_tr,Y_tr,BATCH_SIZE)\n",
    "len(training_samples)"
   ]
  },
  {
   "cell_type": "code",
   "execution_count": 15,
   "metadata": {},
   "outputs": [],
   "source": [
    "# Get the model\n",
    "outputDim = 1        # takes variable 'y'\n",
    "hidden = 52\n",
    "learningRate = 0.009\n",
    "EMBED_SIZE=len(word2idx)\n",
    "model = ModelLstm(input_size=EMBED_SIZE,output_size=INPUT_LENGTH,hidden_dim=hidden)\n",
    "model=model.double()\n",
    "\n",
    "##### For GPU #######\n",
    "if torch.cuda.is_available():\n",
    "    model.cuda()\n",
    "    \n",
    "## Input Length == Output Length"
   ]
  },
  {
   "cell_type": "code",
   "execution_count": 16,
   "metadata": {},
   "outputs": [],
   "source": [
    "## Choose the optimizer and criterion\n",
    "# criterion = torch.nn.CrossEntropyLoss()\n",
    "criterion = torch.nn.BCELoss()\n",
    "\n",
    "optimizer = torch.optim.Adam(model.parameters(),lr=learningRate)\n",
    "# optimizer = torch.optim.SGD(model.parameters(),lr=learningRate)"
   ]
  },
  {
   "cell_type": "code",
   "execution_count": 17,
   "metadata": {},
   "outputs": [],
   "source": [
    "AA=training_samples[0][1]"
   ]
  },
  {
   "cell_type": "code",
   "execution_count": 18,
   "metadata": {},
   "outputs": [
    {
     "data": {
      "text/plain": [
       "'torch.DoubleTensor'"
      ]
     },
     "execution_count": 18,
     "metadata": {},
     "output_type": "execute_result"
    }
   ],
   "source": [
    "AA.type()"
   ]
  },
  {
   "cell_type": "code",
   "execution_count": null,
   "metadata": {},
   "outputs": [],
   "source": []
  },
  {
   "cell_type": "markdown",
   "metadata": {},
   "source": [
    "## Train it"
   ]
  },
  {
   "cell_type": "code",
   "execution_count": 20,
   "metadata": {},
   "outputs": [
    {
     "name": "stdout",
     "output_type": "stream",
     "text": [
      "running loss train 0.2995820108231775\n",
      "running loss train 0.2988295904131774\n",
      "running loss train 0.2988753420897336\n",
      "running loss train 0.29849424817887377\n",
      "running loss train 0.2983588797584567\n"
     ]
    }
   ],
   "source": [
    "epochs=15\n",
    "running_loss_train = 0\n",
    "model.train()\n",
    "for epoch in range(epochs):\n",
    "    running_loss=[]\n",
    "    # Converting inputs and labels to Variable\n",
    "    \n",
    "    for batch_idx, (data, target) in enumerate(training_samples, 1):\n",
    "        if data.size()[0]>0:\n",
    "            inputs = Variable(data)\n",
    "            labels = Variable(target)\n",
    "            optimizer.zero_grad()\n",
    "            outputs, hidden = model(inputs)\n",
    "            # get loss for the predicted output\n",
    "            loss = criterion(outputs, labels)\n",
    "            loss.backward()\n",
    "            # update parameters\n",
    "            optimizer.step()\n",
    "\n",
    "            running_loss.append(loss.item())\n",
    "            running_loss_train += (loss.item() - running_loss_train) / batch_idx\n",
    "        \n",
    "    if epoch % 3 == 0:\n",
    "        print(\"running loss train\", running_loss_train)"
   ]
  },
  {
   "cell_type": "code",
   "execution_count": null,
   "metadata": {},
   "outputs": [],
   "source": []
  },
  {
   "cell_type": "code",
   "execution_count": 20,
   "metadata": {},
   "outputs": [
    {
     "data": {
      "text/plain": [
       "ModelLstm(\n",
       "  (lstm): LSTM(26, 25)\n",
       "  (linear): Linear(in_features=25, out_features=15, bias=False)\n",
       "  (sigmoid): Sigmoid()\n",
       ")"
      ]
     },
     "execution_count": 20,
     "metadata": {},
     "output_type": "execute_result"
    }
   ],
   "source": [
    "model.eval()"
   ]
  },
  {
   "cell_type": "code",
   "execution_count": 21,
   "metadata": {},
   "outputs": [],
   "source": [
    "## Training\n",
    "XX=X_tr.copy()\n",
    "XX=Variable(torch.from_numpy(XX).type('torch.DoubleTensor'))\n",
    "yy=model(XX)"
   ]
  },
  {
   "cell_type": "code",
   "execution_count": 33,
   "metadata": {},
   "outputs": [
    {
     "data": {
      "text/plain": [
       "['000000000000000',\n",
       " '000000000000000',\n",
       " '000000000000000',\n",
       " '000000000000000',\n",
       " '000000000000000',\n",
       " '000000000000000',\n",
       " '000000000000000',\n",
       " '000000000000000',\n",
       " '000000000000000',\n",
       " '000000000000000']"
      ]
     },
     "execution_count": 33,
     "metadata": {},
     "output_type": "execute_result"
    }
   ],
   "source": [
    "yy0=yy[0].data.numpy()\n",
    "yy0=(yy0>0.5).astype(int).astype(str)\n",
    "yy0=[''.join(i) for i in yy0]\n",
    "yy0[:10]"
   ]
  },
  {
   "cell_type": "code",
   "execution_count": 34,
   "metadata": {},
   "outputs": [],
   "source": [
    "data_used_train['y_pred']=yy0"
   ]
  },
  {
   "cell_type": "code",
   "execution_count": 36,
   "metadata": {},
   "outputs": [
    {
     "data": {
      "text/html": [
       "<div>\n",
       "<style scoped>\n",
       "    .dataframe tbody tr th:only-of-type {\n",
       "        vertical-align: middle;\n",
       "    }\n",
       "\n",
       "    .dataframe tbody tr th {\n",
       "        vertical-align: top;\n",
       "    }\n",
       "\n",
       "    .dataframe thead th {\n",
       "        text-align: right;\n",
       "    }\n",
       "</style>\n",
       "<table border=\"1\" class=\"dataframe\">\n",
       "  <thead>\n",
       "    <tr style=\"text-align: right;\">\n",
       "      <th></th>\n",
       "      <th>source</th>\n",
       "      <th>target</th>\n",
       "      <th>ids</th>\n",
       "      <th>flag_space</th>\n",
       "      <th>y_pred</th>\n",
       "    </tr>\n",
       "  </thead>\n",
       "  <tbody>\n",
       "    <tr>\n",
       "      <th>50144</th>\n",
       "      <td>melainkandaerah</td>\n",
       "      <td>melainkan daerah</td>\n",
       "      <td>1637189</td>\n",
       "      <td>000000001000000</td>\n",
       "      <td>000000000000000</td>\n",
       "    </tr>\n",
       "    <tr>\n",
       "      <th>67640</th>\n",
       "      <td>menegaskantiket</td>\n",
       "      <td>menegaskan tiket</td>\n",
       "      <td>1719973</td>\n",
       "      <td>000000000100000</td>\n",
       "      <td>000000000000000</td>\n",
       "    </tr>\n",
       "    <tr>\n",
       "      <th>87884</th>\n",
       "      <td>pelakusetiapini</td>\n",
       "      <td>pelaku setiap ini</td>\n",
       "      <td>1815936</td>\n",
       "      <td>000001000001000</td>\n",
       "      <td>000000000000000</td>\n",
       "    </tr>\n",
       "    <tr>\n",
       "      <th>32800</th>\n",
       "      <td>tahunberbobotdi</td>\n",
       "      <td>tahun berbobot di</td>\n",
       "      <td>1554907</td>\n",
       "      <td>000010000000100</td>\n",
       "      <td>000000000000000</td>\n",
       "    </tr>\n",
       "    <tr>\n",
       "      <th>60884</th>\n",
       "      <td>terpopulerdalam</td>\n",
       "      <td>terpopuler dalam</td>\n",
       "      <td>1687901</td>\n",
       "      <td>000000000100000</td>\n",
       "      <td>000000000000000</td>\n",
       "    </tr>\n",
       "    <tr>\n",
       "      <th>15182</th>\n",
       "      <td>identikinisudah</td>\n",
       "      <td>identik ini sudah</td>\n",
       "      <td>1471301</td>\n",
       "      <td>000000100100000</td>\n",
       "      <td>000000000000000</td>\n",
       "    </tr>\n",
       "    <tr>\n",
       "      <th>65497</th>\n",
       "      <td>denganpekerjaan</td>\n",
       "      <td>dengan pekerjaan</td>\n",
       "      <td>1709857</td>\n",
       "      <td>000001000000000</td>\n",
       "      <td>000000000000000</td>\n",
       "    </tr>\n",
       "    <tr>\n",
       "      <th>48114</th>\n",
       "      <td>mobiltahunsedan</td>\n",
       "      <td>mobil tahun sedan</td>\n",
       "      <td>1627587</td>\n",
       "      <td>000010000100000</td>\n",
       "      <td>000000000000000</td>\n",
       "    </tr>\n",
       "    <tr>\n",
       "      <th>58791</th>\n",
       "      <td>terkaitterhadap</td>\n",
       "      <td>terkait terhadap</td>\n",
       "      <td>1678152</td>\n",
       "      <td>000000100000000</td>\n",
       "      <td>000000000000000</td>\n",
       "    </tr>\n",
       "    <tr>\n",
       "      <th>31506</th>\n",
       "      <td>sertatariftahap</td>\n",
       "      <td>serta tarif tahap</td>\n",
       "      <td>1548878</td>\n",
       "      <td>000010000100000</td>\n",
       "      <td>000000000000000</td>\n",
       "    </tr>\n",
       "  </tbody>\n",
       "</table>\n",
       "</div>"
      ],
      "text/plain": [
       "                source             target      ids       flag_space  \\\n",
       "50144  melainkandaerah   melainkan daerah  1637189  000000001000000   \n",
       "67640  menegaskantiket   menegaskan tiket  1719973  000000000100000   \n",
       "87884  pelakusetiapini  pelaku setiap ini  1815936  000001000001000   \n",
       "32800  tahunberbobotdi  tahun berbobot di  1554907  000010000000100   \n",
       "60884  terpopulerdalam   terpopuler dalam  1687901  000000000100000   \n",
       "15182  identikinisudah  identik ini sudah  1471301  000000100100000   \n",
       "65497  denganpekerjaan   dengan pekerjaan  1709857  000001000000000   \n",
       "48114  mobiltahunsedan  mobil tahun sedan  1627587  000010000100000   \n",
       "58791  terkaitterhadap   terkait terhadap  1678152  000000100000000   \n",
       "31506  sertatariftahap  serta tarif tahap  1548878  000010000100000   \n",
       "\n",
       "                y_pred  \n",
       "50144  000000000000000  \n",
       "67640  000000000000000  \n",
       "87884  000000000000000  \n",
       "32800  000000000000000  \n",
       "60884  000000000000000  \n",
       "15182  000000000000000  \n",
       "65497  000000000000000  \n",
       "48114  000000000000000  \n",
       "58791  000000000000000  \n",
       "31506  000000000000000  "
      ]
     },
     "execution_count": 36,
     "metadata": {},
     "output_type": "execute_result"
    }
   ],
   "source": [
    "data_used_train.sample(10)"
   ]
  },
  {
   "cell_type": "code",
   "execution_count": null,
   "metadata": {},
   "outputs": [],
   "source": []
  },
  {
   "cell_type": "code",
   "execution_count": null,
   "metadata": {},
   "outputs": [],
   "source": []
  },
  {
   "cell_type": "markdown",
   "metadata": {},
   "source": [
    "## Test it"
   ]
  },
  {
   "cell_type": "code",
   "execution_count": 37,
   "metadata": {},
   "outputs": [],
   "source": [
    "## Test it\n",
    "XX=X_te.copy()\n",
    "XX=Variable(torch.from_numpy(XX).type('torch.DoubleTensor'))\n",
    "yy=model(XX)"
   ]
  },
  {
   "cell_type": "code",
   "execution_count": 38,
   "metadata": {},
   "outputs": [
    {
     "data": {
      "text/plain": [
       "['000000000000000',\n",
       " '000000000000000',\n",
       " '000000000000000',\n",
       " '000000000000000',\n",
       " '000000000000000',\n",
       " '000000000000000',\n",
       " '000000000000000',\n",
       " '000000000000000',\n",
       " '000000000000000',\n",
       " '000000000000000']"
      ]
     },
     "execution_count": 38,
     "metadata": {},
     "output_type": "execute_result"
    }
   ],
   "source": [
    "yy0=yy[0].data.numpy()\n",
    "yy0=(yy0>0.5).astype(int).astype(str)\n",
    "yy0=[''.join(i) for i in yy0]\n",
    "yy0[:10]"
   ]
  },
  {
   "cell_type": "code",
   "execution_count": 39,
   "metadata": {},
   "outputs": [
    {
     "name": "stderr",
     "output_type": "stream",
     "text": [
      "/Users/alamhanz/anaconda/envs/word_s/lib/python3.7/site-packages/ipykernel/__main__.py:1: SettingWithCopyWarning: \n",
      "A value is trying to be set on a copy of a slice from a DataFrame.\n",
      "Try using .loc[row_indexer,col_indexer] = value instead\n",
      "\n",
      "See the caveats in the documentation: http://pandas.pydata.org/pandas-docs/stable/indexing.html#indexing-view-versus-copy\n",
      "  if __name__ == '__main__':\n"
     ]
    }
   ],
   "source": [
    "data_used_test['y_pred']=yy0"
   ]
  },
  {
   "cell_type": "code",
   "execution_count": 40,
   "metadata": {},
   "outputs": [
    {
     "data": {
      "text/html": [
       "<div>\n",
       "<style scoped>\n",
       "    .dataframe tbody tr th:only-of-type {\n",
       "        vertical-align: middle;\n",
       "    }\n",
       "\n",
       "    .dataframe tbody tr th {\n",
       "        vertical-align: top;\n",
       "    }\n",
       "\n",
       "    .dataframe thead th {\n",
       "        text-align: right;\n",
       "    }\n",
       "</style>\n",
       "<table border=\"1\" class=\"dataframe\">\n",
       "  <thead>\n",
       "    <tr style=\"text-align: right;\">\n",
       "      <th></th>\n",
       "      <th>source</th>\n",
       "      <th>target</th>\n",
       "      <th>ids</th>\n",
       "      <th>flag_space</th>\n",
       "      <th>y_pred</th>\n",
       "    </tr>\n",
       "  </thead>\n",
       "  <tbody>\n",
       "    <tr>\n",
       "      <th>12342</th>\n",
       "      <td>sepakperusahaan</td>\n",
       "      <td>sepak perusahaan</td>\n",
       "      <td>1457750</td>\n",
       "      <td>000010000000000</td>\n",
       "      <td>000000000000000</td>\n",
       "    </tr>\n",
       "    <tr>\n",
       "      <th>9138</th>\n",
       "      <td>miliarmelakukan</td>\n",
       "      <td>miliar melakukan</td>\n",
       "      <td>1442854</td>\n",
       "      <td>000001000000000</td>\n",
       "      <td>000000000000000</td>\n",
       "    </tr>\n",
       "    <tr>\n",
       "      <th>3403</th>\n",
       "      <td>asalpendaftaran</td>\n",
       "      <td>asal pendaftaran</td>\n",
       "      <td>1416167</td>\n",
       "      <td>000100000000000</td>\n",
       "      <td>000000000000000</td>\n",
       "    </tr>\n",
       "    <tr>\n",
       "      <th>74342</th>\n",
       "      <td>jelasnyastadium</td>\n",
       "      <td>jelasnya stadium</td>\n",
       "      <td>1751813</td>\n",
       "      <td>000000010000000</td>\n",
       "      <td>000000000000000</td>\n",
       "    </tr>\n",
       "    <tr>\n",
       "      <th>12597</th>\n",
       "      <td>cmnphargaplakat</td>\n",
       "      <td>cmnp harga plakat</td>\n",
       "      <td>1459043</td>\n",
       "      <td>000100001000000</td>\n",
       "      <td>000000000000000</td>\n",
       "    </tr>\n",
       "    <tr>\n",
       "      <th>86940</th>\n",
       "      <td>bahwadenganyang</td>\n",
       "      <td>bahwa dengan yang</td>\n",
       "      <td>1811573</td>\n",
       "      <td>000010000010000</td>\n",
       "      <td>000000000000000</td>\n",
       "    </tr>\n",
       "    <tr>\n",
       "      <th>54344</th>\n",
       "      <td>terjadibniingin</td>\n",
       "      <td>terjadi bni ingin</td>\n",
       "      <td>1657235</td>\n",
       "      <td>000000100100000</td>\n",
       "      <td>000000000000000</td>\n",
       "    </tr>\n",
       "    <tr>\n",
       "      <th>8989</th>\n",
       "      <td>untuktetappiper</td>\n",
       "      <td>untuk tetap piper</td>\n",
       "      <td>1442103</td>\n",
       "      <td>000010000100000</td>\n",
       "      <td>000000000000000</td>\n",
       "    </tr>\n",
       "    <tr>\n",
       "      <th>15108</th>\n",
       "      <td>ratelalusamping</td>\n",
       "      <td>rate lalu samping</td>\n",
       "      <td>1471008</td>\n",
       "      <td>000100010000000</td>\n",
       "      <td>000000000000000</td>\n",
       "    </tr>\n",
       "    <tr>\n",
       "      <th>28477</th>\n",
       "      <td>danyangnokiadwi</td>\n",
       "      <td>dan yang nokia dwi</td>\n",
       "      <td>1534286</td>\n",
       "      <td>001000100001000</td>\n",
       "      <td>000000000000000</td>\n",
       "    </tr>\n",
       "  </tbody>\n",
       "</table>\n",
       "</div>"
      ],
      "text/plain": [
       "                source              target      ids       flag_space  \\\n",
       "12342  sepakperusahaan    sepak perusahaan  1457750  000010000000000   \n",
       "9138   miliarmelakukan    miliar melakukan  1442854  000001000000000   \n",
       "3403   asalpendaftaran    asal pendaftaran  1416167  000100000000000   \n",
       "74342  jelasnyastadium    jelasnya stadium  1751813  000000010000000   \n",
       "12597  cmnphargaplakat   cmnp harga plakat  1459043  000100001000000   \n",
       "86940  bahwadenganyang   bahwa dengan yang  1811573  000010000010000   \n",
       "54344  terjadibniingin   terjadi bni ingin  1657235  000000100100000   \n",
       "8989   untuktetappiper   untuk tetap piper  1442103  000010000100000   \n",
       "15108  ratelalusamping   rate lalu samping  1471008  000100010000000   \n",
       "28477  danyangnokiadwi  dan yang nokia dwi  1534286  001000100001000   \n",
       "\n",
       "                y_pred  \n",
       "12342  000000000000000  \n",
       "9138   000000000000000  \n",
       "3403   000000000000000  \n",
       "74342  000000000000000  \n",
       "12597  000000000000000  \n",
       "86940  000000000000000  \n",
       "54344  000000000000000  \n",
       "8989   000000000000000  \n",
       "15108  000000000000000  \n",
       "28477  000000000000000  "
      ]
     },
     "execution_count": 40,
     "metadata": {},
     "output_type": "execute_result"
    }
   ],
   "source": [
    "data_used_train.sample(10)"
   ]
  },
  {
   "cell_type": "code",
   "execution_count": null,
   "metadata": {},
   "outputs": [],
   "source": []
  }
 ],
 "metadata": {
  "kernelspec": {
   "display_name": "Python [conda env:word_s]",
   "language": "python",
   "name": "conda-env-word_s-py"
  },
  "language_info": {
   "codemirror_mode": {
    "name": "ipython",
    "version": 3
   },
   "file_extension": ".py",
   "mimetype": "text/x-python",
   "name": "python",
   "nbconvert_exporter": "python",
   "pygments_lexer": "ipython3",
   "version": "3.7.3"
  }
 },
 "nbformat": 4,
 "nbformat_minor": 2
}
