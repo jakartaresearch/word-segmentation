{
 "cells": [
  {
   "cell_type": "markdown",
   "metadata": {},
   "source": [
    "## Generate Training Dataset"
   ]
  },
  {
   "cell_type": "code",
   "execution_count": 1,
   "metadata": {},
   "outputs": [],
   "source": [
    "import pickle\n",
    "import re\n",
    "import pandas as pd\n",
    "import numpy as np\n",
    "import os"
   ]
  },
  {
   "cell_type": "code",
   "execution_count": 6,
   "metadata": {},
   "outputs": [],
   "source": [
    "def data_generator(min_word, max_word, total_sentence, fix_length_list):\n",
    "    \n",
    "    len_sent_dict = dict(zip(fix_length_list,[0]*len(fix_length_list)))\n",
    "    sentence_list=[]\n",
    "    return len_sent_dict\n",
    "    while True:\n",
    "        word_list = []\n",
    "        random_word_size = np.random.randint(min_word, max_word + 1)\n",
    "        for j in range(random_word_size):\n",
    "            contained = True # ensure no duplicate word in same sentence\n",
    "            while contained: \n",
    "                word = np.random.choice(df_word_freq.word, p=df_word_freq.prob)\n",
    "                contained = word in word_list\n",
    "            word_list.append(word)\n",
    "\n",
    "        sentence = ' '.join(word_list)\n",
    "        sentence_nospace = ''.join(word_list)\n",
    "\n",
    "        len_sentence = len(sentence_nospace)\n",
    "\n",
    "        # if total sentence in all fix length fullfilled then stop\n",
    "        if len(sentence_list) == (total_sentence * len(fix_length_list)):\n",
    "            break\n",
    "\n",
    "        # if sentence length is in fix length list then input to total sentence\n",
    "        if len_sentence in fix_length_list:\n",
    "            if len_sent_dict[len_sentence] < total_sentence:\n",
    "\n",
    "                sentence_list.append([sentence_nospace, sentence])\n",
    "                len_sent_dict[len_sentence] += 1\n",
    "        \n",
    "        if len(sentence_list)%75000==0 and len(sentence_list)!=0:\n",
    "            print(len_sent_dict)\n",
    "            print(\"-----\")\n",
    "            \n",
    "    return sentence_list"
   ]
  },
  {
   "cell_type": "markdown",
   "metadata": {},
   "source": [
    "Read file word frequency"
   ]
  },
  {
   "cell_type": "code",
   "execution_count": 3,
   "metadata": {},
   "outputs": [],
   "source": [
    "file_path = os.path.join('..','data','raw','word_freq_lower.res')\n",
    "\n",
    "with open(file_path, 'rb') as filename: \n",
    "    df_word_freq = pickle.load(filename)"
   ]
  },
  {
   "cell_type": "markdown",
   "metadata": {},
   "source": [
    "cleansing and calculating probability"
   ]
  },
  {
   "cell_type": "code",
   "execution_count": 4,
   "metadata": {
    "scrolled": true
   },
   "outputs": [],
   "source": [
    "df_word_freq['keep'] = df_word_freq['word'].map(lambda x: bool(re.match('^[a-z]+$', x)))\n",
    "\n",
    "df_word_freq = df_word_freq.loc[df_word_freq['keep']]\n",
    "df_word_freq['prob'] = df_word_freq['freq'] / df_word_freq['freq'].sum()\n"
   ]
  },
  {
   "cell_type": "code",
   "execution_count": 5,
   "metadata": {},
   "outputs": [
    {
     "data": {
      "text/plain": [
       "(36596, 4)"
      ]
     },
     "execution_count": 5,
     "metadata": {},
     "output_type": "execute_result"
    }
   ],
   "source": [
    "df_word_freq.shape"
   ]
  },
  {
   "cell_type": "code",
   "execution_count": 7,
   "metadata": {},
   "outputs": [],
   "source": [
    "np.random.seed(123)\n",
    "\n",
    "min_word = 2\n",
    "max_word = 8\n",
    "total_sentence = 10\n",
    "fix_length_list = [10, 15, 20, 25]\n",
    "\n",
    "# fix_length_list = [10,12,13,14,15,16,17,18,19,20]\n",
    "# fix_length_list = [7,8,9,10]\n",
    "# fix_length_list = [11,12,13,14,15]\n",
    "# fix_length_list = [16,17,18,19,20]\n",
    "# fix_length_list = [7,8,9,10]+[11,12,13,14,15]+[16,17,18,19,20]+[21,22,23,24,25]\n",
    "\n",
    "sentence_list=data_generator(min_word, max_word, total_sentence, fix_length_list)"
   ]
  },
  {
   "cell_type": "code",
   "execution_count": 8,
   "metadata": {},
   "outputs": [
    {
     "data": {
      "text/plain": [
       "{10: 0, 15: 0, 20: 0, 25: 0}"
      ]
     },
     "execution_count": 8,
     "metadata": {},
     "output_type": "execute_result"
    }
   ],
   "source": [
    "sentence_list"
   ]
  },
  {
   "cell_type": "code",
   "execution_count": null,
   "metadata": {},
   "outputs": [],
   "source": [
    "dict(zip([1,2,3],[2,3,4]))"
   ]
  },
  {
   "cell_type": "markdown",
   "metadata": {},
   "source": [
    "## data frame"
   ]
  },
  {
   "cell_type": "markdown",
   "metadata": {},
   "source": [
    "make dataframe"
   ]
  },
  {
   "cell_type": "code",
   "execution_count": null,
   "metadata": {},
   "outputs": [],
   "source": [
    "d_data = pd.DataFrame(sentence_list)\n",
    "d_data.columns = [\"source\", \"target\"]"
   ]
  },
  {
   "cell_type": "code",
   "execution_count": null,
   "metadata": {},
   "outputs": [],
   "source": [
    "# dump_path = os.path.join('..','data','clean','data25.res')\n",
    "dump_path = os.path.join('..','data','clean','data250k.res')"
   ]
  },
  {
   "cell_type": "code",
   "execution_count": null,
   "metadata": {},
   "outputs": [],
   "source": [
    "pickle.dump(d_data, open(dump_path, 'wb'))"
   ]
  },
  {
   "cell_type": "code",
   "execution_count": null,
   "metadata": {},
   "outputs": [],
   "source": [
    "os.listdir('../data/clean/')"
   ]
  },
  {
   "cell_type": "code",
   "execution_count": null,
   "metadata": {},
   "outputs": [],
   "source": [
    "list_data_cln=[]\n",
    "for fn in os.listdir('../data/clean/'):\n",
    "    if 'data' in fn:\n",
    "        with open('../data/clean/'+fn, 'rb') as filename: \n",
    "            data_tmp=pickle.load(filename)\n",
    "            list_data_cln.append(data_tmp)"
   ]
  },
  {
   "cell_type": "code",
   "execution_count": null,
   "metadata": {},
   "outputs": [],
   "source": [
    "data_cln_100k=pd.concat(list_data_cln).reset_index()[['source','target']]"
   ]
  },
  {
   "cell_type": "code",
   "execution_count": null,
   "metadata": {},
   "outputs": [],
   "source": [
    "dump_path = os.path.join('..','data','clean','data_clean_100k.res')\n",
    "pickle.dump(data_cln_100k, open(dump_path, 'wb'))"
   ]
  },
  {
   "cell_type": "markdown",
   "metadata": {},
   "source": [
    "data_clean_100k.res = data clean from length 7 to 25 with 100k data for every length"
   ]
  },
  {
   "cell_type": "code",
   "execution_count": null,
   "metadata": {},
   "outputs": [],
   "source": []
  }
 ],
 "metadata": {
  "kernelspec": {
   "display_name": "Python 3",
   "language": "python",
   "name": "python3"
  },
  "language_info": {
   "codemirror_mode": {
    "name": "ipython",
    "version": 3
   },
   "file_extension": ".py",
   "mimetype": "text/x-python",
   "name": "python",
   "nbconvert_exporter": "python",
   "pygments_lexer": "ipython3",
   "version": "3.7.3"
  }
 },
 "nbformat": 4,
 "nbformat_minor": 2
}
