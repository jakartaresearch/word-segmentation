{
 "cells": [
  {
   "cell_type": "markdown",
   "metadata": {},
   "source": [
    "# Word Segmentation Modelling (version : alam.1.4)\n",
    "\n",
    "This is the modelling documentation of Word Segmentation\n",
    "\n",
    "First Structured :\n",
    "\n",
    "\n",
    "Input :\n",
    "\n",
    "    INPUT LENGTH =15\n",
    "    TRAIN = 90k data (Random state : 342)\n",
    "    WORD2VEC 50\n",
    "    \n",
    "\n",
    "output :\n",
    "\n",
    "    Multi Conv LSTM\n",
    "\n",
    "\n",
    "## Plan\n",
    "\n",
    "    [*] Get Data\n",
    "    [*] Transform the data\n",
    "    [ ] Prepare the model\n",
    "    [ ] Train it"
   ]
  },
  {
   "cell_type": "code",
   "execution_count": 6,
   "metadata": {},
   "outputs": [],
   "source": [
    "%matplotlib inline\n",
    "import sys\n",
    "sys.path.append('../scr/')\n",
    "import pandas as pd\n",
    "import torch\n",
    "import numpy as np\n",
    "import os\n",
    "import pickle\n",
    "import WordSegmenTools as wst\n",
    "from torch.autograd import Variable\n",
    "import random\n",
    "from sklearn.preprocessing import OneHotEncoder\n",
    "from gensim.models import Word2Vec\n",
    "import time"
   ]
  },
  {
   "cell_type": "code",
   "execution_count": 7,
   "metadata": {},
   "outputs": [],
   "source": [
    "PATH_DATA_RAW='../../data/raw/'\n",
    "PATH_DATA_CLN='../../data/clean/'\n",
    "PATH_MODEL='../../data/model/'"
   ]
  },
  {
   "cell_type": "code",
   "execution_count": 8,
   "metadata": {},
   "outputs": [
    {
     "data": {
      "text/plain": [
       "['data_clean_100k.res']"
      ]
     },
     "execution_count": 8,
     "metadata": {},
     "output_type": "execute_result"
    }
   ],
   "source": [
    "os.listdir(PATH_DATA_CLN)"
   ]
  },
  {
   "cell_type": "code",
   "execution_count": 9,
   "metadata": {},
   "outputs": [
    {
     "data": {
      "text/plain": [
       "['char_embed_25.res', 'char_embed_50.res', 'char_embed_75.res']"
      ]
     },
     "execution_count": 9,
     "metadata": {},
     "output_type": "execute_result"
    }
   ],
   "source": [
    "os.listdir(PATH_MODEL)"
   ]
  },
  {
   "cell_type": "code",
   "execution_count": null,
   "metadata": {},
   "outputs": [],
   "source": []
  },
  {
   "cell_type": "markdown",
   "metadata": {},
   "source": [
    "## Get Data"
   ]
  },
  {
   "cell_type": "code",
   "execution_count": 10,
   "metadata": {},
   "outputs": [],
   "source": [
    "SEQ_LENGTH=15"
   ]
  },
  {
   "cell_type": "code",
   "execution_count": 11,
   "metadata": {},
   "outputs": [
    {
     "name": "stderr",
     "output_type": "stream",
     "text": [
      "/Users/alamhanz/anaconda/envs/word_s/lib/python3.7/site-packages/smart_open/smart_open_lib.py:398: UserWarning: This function is deprecated, use smart_open.open instead. See the migration notes for details: https://github.com/RaRe-Technologies/smart_open/blob/master/README.rst#migrating-to-the-new-open-function\n",
      "  'See the migration notes for details: %s' % _MIGRATION_NOTES_URL\n"
     ]
    }
   ],
   "source": [
    "# data_cln=pd.read_csv(PATH_DATA_CLN+'data_clean_100k.res')\n",
    "data_cln=pickle.load(open(PATH_DATA_CLN+'data_clean_100k.res','rb'))\n",
    "w2v = Word2Vec.load(PATH_MODEL+\"char_embed_50.res\")"
   ]
  },
  {
   "cell_type": "code",
   "execution_count": 12,
   "metadata": {},
   "outputs": [],
   "source": [
    "data_cln['len_source']=data_cln.source.apply(len)\n",
    "data_used=data_cln[data_cln.len_source==SEQ_LENGTH]\n",
    "data_used=data_used.reset_index()[['source','target','index']]\n",
    "data_used.columns=['source','target','ids']"
   ]
  },
  {
   "cell_type": "code",
   "execution_count": 13,
   "metadata": {},
   "outputs": [
    {
     "data": {
      "text/html": [
       "<div>\n",
       "<style scoped>\n",
       "    .dataframe tbody tr th:only-of-type {\n",
       "        vertical-align: middle;\n",
       "    }\n",
       "\n",
       "    .dataframe tbody tr th {\n",
       "        vertical-align: top;\n",
       "    }\n",
       "\n",
       "    .dataframe thead th {\n",
       "        text-align: right;\n",
       "    }\n",
       "</style>\n",
       "<table border=\"1\" class=\"dataframe\">\n",
       "  <thead>\n",
       "    <tr style=\"text-align: right;\">\n",
       "      <th></th>\n",
       "      <th>source</th>\n",
       "      <th>target</th>\n",
       "      <th>ids</th>\n",
       "    </tr>\n",
       "  </thead>\n",
       "  <tbody>\n",
       "    <tr>\n",
       "      <th>17842</th>\n",
       "      <td>membeliitumasih</td>\n",
       "      <td>membeli itu masih</td>\n",
       "      <td>1483857</td>\n",
       "    </tr>\n",
       "    <tr>\n",
       "      <th>26698</th>\n",
       "      <td>maxindoaaibjuga</td>\n",
       "      <td>maxindo aaib juga</td>\n",
       "      <td>1525960</td>\n",
       "    </tr>\n",
       "    <tr>\n",
       "      <th>27679</th>\n",
       "      <td>sangatutamauang</td>\n",
       "      <td>sangat utama uang</td>\n",
       "      <td>1530459</td>\n",
       "    </tr>\n",
       "    <tr>\n",
       "      <th>37164</th>\n",
       "      <td>danbermainpecah</td>\n",
       "      <td>dan bermain pecah</td>\n",
       "      <td>1575969</td>\n",
       "    </tr>\n",
       "    <tr>\n",
       "      <th>84188</th>\n",
       "      <td>sepanjangtarget</td>\n",
       "      <td>sepanjang target</td>\n",
       "      <td>1798520</td>\n",
       "    </tr>\n",
       "    <tr>\n",
       "      <th>31142</th>\n",
       "      <td>dibumerangpapan</td>\n",
       "      <td>di bumerang papan</td>\n",
       "      <td>1547149</td>\n",
       "    </tr>\n",
       "    <tr>\n",
       "      <th>55525</th>\n",
       "      <td>channellainbaca</td>\n",
       "      <td>channel lain baca</td>\n",
       "      <td>1662834</td>\n",
       "    </tr>\n",
       "    <tr>\n",
       "      <th>13432</th>\n",
       "      <td>langsungbendera</td>\n",
       "      <td>langsung bendera</td>\n",
       "      <td>1462961</td>\n",
       "    </tr>\n",
       "    <tr>\n",
       "      <th>21461</th>\n",
       "      <td>sebelumnyauntuk</td>\n",
       "      <td>sebelumnya untuk</td>\n",
       "      <td>1501057</td>\n",
       "    </tr>\n",
       "    <tr>\n",
       "      <th>32547</th>\n",
       "      <td>hentikanlayanan</td>\n",
       "      <td>hentikan layanan</td>\n",
       "      <td>1553688</td>\n",
       "    </tr>\n",
       "  </tbody>\n",
       "</table>\n",
       "</div>"
      ],
      "text/plain": [
       "                source             target      ids\n",
       "17842  membeliitumasih  membeli itu masih  1483857\n",
       "26698  maxindoaaibjuga  maxindo aaib juga  1525960\n",
       "27679  sangatutamauang  sangat utama uang  1530459\n",
       "37164  danbermainpecah  dan bermain pecah  1575969\n",
       "84188  sepanjangtarget   sepanjang target  1798520\n",
       "31142  dibumerangpapan  di bumerang papan  1547149\n",
       "55525  channellainbaca  channel lain baca  1662834\n",
       "13432  langsungbendera   langsung bendera  1462961\n",
       "21461  sebelumnyauntuk   sebelumnya untuk  1501057\n",
       "32547  hentikanlayanan   hentikan layanan  1553688"
      ]
     },
     "execution_count": 13,
     "metadata": {},
     "output_type": "execute_result"
    }
   ],
   "source": [
    "data_used.sample(10)"
   ]
  },
  {
   "cell_type": "markdown",
   "metadata": {},
   "source": [
    "## Transform Data"
   ]
  },
  {
   "cell_type": "code",
   "execution_count": 14,
   "metadata": {},
   "outputs": [],
   "source": [
    "data_used['flag_space'] = data_used['target'].map(wst.get_flag_space)\n",
    "word2idx, idx2word = wst.get_label_index(data_used.source)"
   ]
  },
  {
   "cell_type": "code",
   "execution_count": 15,
   "metadata": {},
   "outputs": [],
   "source": [
    "data_used_train=data_used.sample(90000,random_state=342)\n",
    "data_used_test=data_used[~(data_used.ids.isin(data_used_train.ids))]"
   ]
  },
  {
   "cell_type": "code",
   "execution_count": 16,
   "metadata": {},
   "outputs": [
    {
     "name": "stderr",
     "output_type": "stream",
     "text": [
      "/Users/alamhanz/anaconda/envs/word_s/lib/python3.7/site-packages/sklearn/preprocessing/_encoders.py:415: FutureWarning: The handling of integer data will change in version 0.22. Currently, the categories are determined based on the range [0, max(values)], while in the future they will be determined based on the unique values.\n",
      "If you want the future behaviour and silence this warning, you can specify \"categories='auto'\".\n",
      "In case you used a LabelEncoder before this OneHotEncoder to convert the categories to integers, then you can now use the OneHotEncoder directly.\n",
      "  warnings.warn(msg, FutureWarning)\n"
     ]
    }
   ],
   "source": [
    "## Target \n",
    "Y_tr=np.array(data_used_train.flag_space.apply(list).tolist(),dtype=np.double)\n",
    "Y_tr=Y_tr.reshape(-1,SEQ_LENGTH,1)\n",
    "Y_te=np.array(data_used_test.flag_space.apply(list).tolist(),dtype=np.double)\n",
    "Y_te=Y_te.reshape(-1,SEQ_LENGTH,1)\n",
    "\n",
    "encoder = OneHotEncoder()\n",
    "encoder.fit(Y_tr.reshape(-1,1))\n",
    "\n",
    "Y_tr=encoder.transform(Y_tr.reshape(-1,1)).toarray().reshape(-1,SEQ_LENGTH,len(encoder.categories_[0]))\n",
    "Y_te=encoder.transform(Y_te.reshape(-1,1)).toarray().reshape(-1,SEQ_LENGTH,len(encoder.categories_[0]))\n",
    "\n",
    "## Source\n",
    "X_tr=wst.char_vectorizer_word2vec(data_used_train.source.tolist(), w2v, SEQ_LENGTH)\n",
    "X_te=wst.char_vectorizer_word2vec(data_used_test.source.tolist(), w2v, SEQ_LENGTH)"
   ]
  },
  {
   "cell_type": "code",
   "execution_count": 17,
   "metadata": {},
   "outputs": [],
   "source": [
    "# word2idx"
   ]
  },
  {
   "cell_type": "code",
   "execution_count": 18,
   "metadata": {},
   "outputs": [
    {
     "data": {
      "text/plain": [
       "(90000, 15, 50)"
      ]
     },
     "execution_count": 18,
     "metadata": {},
     "output_type": "execute_result"
    }
   ],
   "source": [
    "X_tr.shape"
   ]
  },
  {
   "cell_type": "code",
   "execution_count": 19,
   "metadata": {},
   "outputs": [
    {
     "data": {
      "text/plain": [
       "(10000, 15, 50)"
      ]
     },
     "execution_count": 19,
     "metadata": {},
     "output_type": "execute_result"
    }
   ],
   "source": [
    "X_te.shape"
   ]
  },
  {
   "cell_type": "code",
   "execution_count": 20,
   "metadata": {},
   "outputs": [
    {
     "data": {
      "text/plain": [
       "(90000, 15, 2)"
      ]
     },
     "execution_count": 20,
     "metadata": {},
     "output_type": "execute_result"
    }
   ],
   "source": [
    "Y_tr.shape"
   ]
  },
  {
   "cell_type": "code",
   "execution_count": null,
   "metadata": {},
   "outputs": [],
   "source": []
  },
  {
   "cell_type": "markdown",
   "metadata": {},
   "source": [
    "## Prepare the Model"
   ]
  },
  {
   "cell_type": "code",
   "execution_count": 49,
   "metadata": {},
   "outputs": [],
   "source": [
    "class ConvMultiLstm(torch.nn.Module):\n",
    "\n",
    "    def __init__(self, input_size, output_size, hidden_dim0, hidden_dim1, Layers):        \n",
    "        super(ConvMultiLstm, self).__init__()\n",
    "        self.input_dim = input_size\n",
    "#         self.input_cnn = input_cnn_size\n",
    "        self.hidden_dim0 = hidden_dim0\n",
    "        self.hidden_dim1 = hidden_dim1\n",
    "        self.layer=Layers\n",
    "\n",
    "        # self.lstm = torch.nn.LSTM(self.input_dim, self.hidden_dim, self.num_layers)\n",
    "        self.cnn1d = self.layer1 = torch.nn.Conv1d(in_channels=self.input_dim, out_channels=self.input_dim, kernel_size=5, stride=1, padding=2)\n",
    "        self.act1 = torch.nn.ReLU()\n",
    "        self.lstm1 = torch.nn.LSTM(self.input_dim, self.hidden_dim0)\n",
    "#         self.lstm2 = torch.nn.LSTM(self.hidden_dim0, self.hidden_dim1)\n",
    "        self.lstm3 = torch.nn.LSTM(self.hidden_dim0, self.hidden_dim0, num_layers=Layers)\n",
    "        self.linear1 = torch.nn.Linear(self.hidden_dim0, self.hidden_dim1)\n",
    "        self.linear2 = torch.nn.Linear(self.hidden_dim1, output_size)\n",
    "        self.softmax = torch.nn.Softmax()\n",
    "        \n",
    "    def duplicate_tensor(self,X,n):\n",
    "        X0=torch.cat((X, X), 0)\n",
    "        for i in range(n-2):\n",
    "            X0=torch.cat((X0, X), 0)\n",
    "        return X0\n",
    "        \n",
    "    def forward(self, input):\n",
    "        torch.manual_seed(200)\n",
    "        batch_size=len(input)\n",
    "        embedding_len=len(input[0][0])        \n",
    "        input=input.view(batch_size,len(input[0]), -1)\n",
    "        ## Transpose for cnn1d\n",
    "        input_cnn=input.transpose(1, 2)\n",
    "        cnn_out=self.cnn1d(input_cnn)\n",
    "        \n",
    "        ## Transpose for lstm\n",
    "        input_lstm=cnn_out.transpose(1, 2)\n",
    "        \n",
    "        lstm_out, (hidden2_h,hidden2_c) = self.lstm1(input_lstm)\n",
    "        hidden2_h_duplicate=self.duplicate_tensor(hidden2_h,self.layer)\n",
    "        hidden2_c_duplicate=self.duplicate_tensor(hidden2_c,self.layer)\n",
    "        \n",
    "        out, hidden3 = self.lstm3(lstm_out,(hidden2_h_duplicate,hidden2_c_duplicate))\n",
    "        y_pred = self.linear1(out)\n",
    "        y_pred = self.linear2(y_pred)\n",
    "        y_pred = self.softmax(y_pred)        \n",
    "        return y_pred\n",
    "    \n",
    "## Remember LSTM : Batch, Seq, Embedding\n",
    "## Conv : [batch_size, in_channels, Len Seq]\n",
    "# p = p.transpose(1, 2).transpose(0, 1)"
   ]
  },
  {
   "cell_type": "code",
   "execution_count": 50,
   "metadata": {},
   "outputs": [],
   "source": [
    "## Get the model\n",
    "# INPUT_LENGTH=50\n",
    "# LAYERS=3\n",
    "# HIDDEN_LAYER0=100\n",
    "# HIDDEN_LAYER1=20\n",
    "# OUT_DIM=2\n",
    "# learningRate=0.0004\n",
    "\n",
    "# model_coba=MultiLstm(input_size=INPUT_LENGTH, output_size=OUT_DIM, hidden_dim0=HIDDEN_LAYER0, hidden_dim1=HIDDEN_LAYER1, Layers=LAYERS)"
   ]
  },
  {
   "cell_type": "code",
   "execution_count": 51,
   "metadata": {},
   "outputs": [],
   "source": [
    "# XX=torch.rand(2,8,50)\n",
    "# model_coba(XX)"
   ]
  },
  {
   "cell_type": "code",
   "execution_count": 52,
   "metadata": {},
   "outputs": [],
   "source": [
    "def data_batching_torch(X,y,batch):\n",
    "    batches=[(torch.from_numpy(X[i*(batch):i*(batch)+batch]).type('torch.DoubleTensor'),\n",
    "              torch.from_numpy(y[i*(batch):i*(batch)+batch]).type('torch.DoubleTensor'))   \n",
    "                  for i in range(int(len(X)/batch)+1)]\n",
    "    return batches"
   ]
  },
  {
   "cell_type": "code",
   "execution_count": 53,
   "metadata": {},
   "outputs": [
    {
     "data": {
      "text/plain": [
       "3601"
      ]
     },
     "execution_count": 53,
     "metadata": {},
     "output_type": "execute_result"
    }
   ],
   "source": [
    "BATCH_SIZE=25\n",
    "training_samples=data_batching_torch(X_tr,Y_tr,BATCH_SIZE)\n",
    "len(training_samples)"
   ]
  },
  {
   "cell_type": "code",
   "execution_count": 54,
   "metadata": {},
   "outputs": [],
   "source": [
    "random.seed(100)\n",
    "sample_val=random.sample(training_samples,540)\n",
    "sample_train=list(set(training_samples)-set(sample_val))"
   ]
  },
  {
   "cell_type": "code",
   "execution_count": 55,
   "metadata": {},
   "outputs": [],
   "source": [
    "# Get the model\n",
    "INPUT_LENGTH=w2v.vector_size\n",
    "LAYERS=2\n",
    "HIDDEN_LAYER0=45\n",
    "HIDDEN_LAYER1=15\n",
    "OUT_DIM=2\n",
    "learningRate=0.00045\n",
    "\n",
    "model_clstm=ConvMultiLstm(input_size=INPUT_LENGTH, output_size=OUT_DIM, hidden_dim0=HIDDEN_LAYER0, hidden_dim1=HIDDEN_LAYER1, Layers=LAYERS)"
   ]
  },
  {
   "cell_type": "code",
   "execution_count": 56,
   "metadata": {},
   "outputs": [],
   "source": [
    "## Choose the optimizer and criterion\n",
    "# criterion = torch.nn.CrossEntropyLoss()\n",
    "criterion = torch.nn.BCELoss()\n",
    "optimizer = torch.optim.Adam(model_clstm.parameters(),lr=learningRate)\n",
    "# optimizer = torch.optim.SGD(model.parameters(),lr=learningRate)"
   ]
  },
  {
   "cell_type": "code",
   "execution_count": 57,
   "metadata": {},
   "outputs": [],
   "source": [
    "AA=training_samples[0][1]"
   ]
  },
  {
   "cell_type": "code",
   "execution_count": 58,
   "metadata": {},
   "outputs": [
    {
     "data": {
      "text/plain": [
       "'torch.DoubleTensor'"
      ]
     },
     "execution_count": 58,
     "metadata": {},
     "output_type": "execute_result"
    }
   ],
   "source": [
    "AA.type()"
   ]
  },
  {
   "cell_type": "code",
   "execution_count": null,
   "metadata": {},
   "outputs": [],
   "source": []
  },
  {
   "cell_type": "markdown",
   "metadata": {},
   "source": [
    "## Train it"
   ]
  },
  {
   "cell_type": "code",
   "execution_count": 59,
   "metadata": {},
   "outputs": [
    {
     "name": "stderr",
     "output_type": "stream",
     "text": [
      "/Users/alamhanz/anaconda/envs/word_s/lib/python3.7/site-packages/ipykernel/__main__.py:46: UserWarning: Implicit dimension choice for softmax has been deprecated. Change the call to include dim=X as an argument.\n"
     ]
    },
    {
     "name": "stdout",
     "output_type": "stream",
     "text": [
      "----------0----------\n",
      "running loss train 1.5579655862526085\n",
      "running loss val 1.546835814158067\n",
      "time every epoch: 1.9780471682548524\n",
      "----------7----------\n",
      "running loss train 1.5226626452928966\n",
      "running loss val 1.5252250393231226\n",
      "time every epoch: 1.9770416339238486\n",
      "----------14----------\n",
      "running loss train 1.5163886135748221\n",
      "running loss val 1.5221576869873856\n",
      "time every epoch: 1.9467247327168782\n",
      "----------21----------\n",
      "running loss train 1.5127255429674005\n",
      "running loss val 1.5219393154358964\n",
      "time every epoch: 1.9584757010142009\n",
      "----------28----------\n",
      "running loss train 1.5099688788617522\n",
      "running loss val 1.5226164418401866\n",
      "time every epoch: 1.968492579460144\n",
      "----------35----------\n",
      "running loss train 1.5076801205213706\n",
      "running loss val 1.5246756886470167\n",
      "time every epoch: 1.968402417500814\n",
      "----------42----------\n",
      "running loss train 1.5057005483361443\n",
      "running loss val 1.5274285981784577\n",
      "time every epoch: 2.0482490340868633\n",
      "----------49----------\n",
      "running loss train 1.5040105954637406\n",
      "running loss val 1.529715084239943\n",
      "time every epoch: 1.971704884370168\n",
      "----------56----------\n",
      "running loss train 1.5025937292719127\n",
      "running loss val 1.5324770899601612\n",
      "time every epoch: 1.9764171520868936\n",
      "----------63----------\n",
      "running loss train 1.5013890001206482\n",
      "running loss val 1.534049394483933\n",
      "time every epoch: 1.9707282026608786\n",
      "----------70----------\n",
      "running loss train 1.5003325000032552\n",
      "running loss val 1.5358619378250242\n",
      "time every epoch: 1.9919223507245383\n",
      "----------77----------\n",
      "running loss train 1.499585953495241\n",
      "running loss val 1.5369804375513998\n",
      "time every epoch: 2.1181436657905577\n",
      "----------84----------\n",
      "running loss train 1.4984501747215073\n",
      "running loss val 1.5390153971804947\n",
      "time every epoch: 1.9895232796669007\n",
      "----------91----------\n",
      "running loss train 1.4977176486404975\n",
      "running loss val 1.5406022498190224\n",
      "time every epoch: 1.9734543005625407\n",
      "----------98----------\n",
      "running loss train 1.4971030312858629\n",
      "running loss val 1.5421513658409494\n",
      "time every epoch: 2.096568032105764\n",
      "----------105----------\n",
      "running loss train 1.4966085206545179\n",
      "running loss val 1.5449102636649659\n",
      "time every epoch: 1.9701922178268432\n",
      "----------112----------\n",
      "running loss train 1.4958774754459958\n",
      "running loss val 1.545974361857915\n",
      "time every epoch: 1.9745385845502217\n",
      "----------119----------\n",
      "running loss train 1.4953866497356738\n",
      "running loss val 1.5467767903539111\n",
      "time every epoch: 1.9851412018140158\n",
      "----------126----------\n",
      "running loss train 1.494891901264293\n",
      "running loss val 1.5474985387643143\n",
      "time every epoch: 1.987185251712799\n",
      "----------133----------\n",
      "running loss train 1.494528361898206\n",
      "running loss val 1.5486193786792688\n",
      "time every epoch: 2.0297919511795044\n",
      "----------140----------\n",
      "running loss train 1.4943470015725815\n",
      "running loss val 1.5498953235835853\n",
      "time every epoch: 1.9536132534344992\n",
      "----------147----------\n",
      "running loss train 1.4937058430251462\n",
      "running loss val 1.5503350406986987\n",
      "time every epoch: 1.9955121835072835\n",
      "----------154----------\n",
      "running loss train 1.4939989668236762\n",
      "running loss val 1.5493066235630262\n",
      "time every epoch: 1.9737535834312439\n",
      "----------161----------\n",
      "running loss train 1.4936052918079583\n",
      "running loss val 1.5505502174790715\n",
      "time every epoch: 1.976135015487671\n",
      "----------168----------\n",
      "running loss train 1.4932165384555003\n",
      "running loss val 1.5528385507304951\n",
      "time every epoch: 1.9748243808746337\n"
     ]
    }
   ],
   "source": [
    "epochs=175\n",
    "model_clstm.double()\n",
    "running_loss_train_ls=[]\n",
    "running_loss_test_ls=[]\n",
    "\n",
    "for epoch in range(epochs):\n",
    "    L=time.time()\n",
    "    model_clstm.train()\n",
    "    running_loss_train = 0\n",
    "    running_loss_test = 0\n",
    "    # Converting inputs and labels to Variable\n",
    "    \n",
    "    for batch_idx, (data, target) in enumerate(sample_train, 1):\n",
    "        if data.size()[0]>0:\n",
    "            inputs = Variable(data)\n",
    "            labels = Variable(target)\n",
    "            optimizer.zero_grad()\n",
    "            outputs= model_clstm(inputs)\n",
    "            \n",
    "            # get loss for the predicted output\n",
    "            loss = criterion(outputs, labels)\n",
    "            loss.backward()\n",
    "            \n",
    "            # update parameters\n",
    "            optimizer.step()\n",
    "            running_loss_train += (loss.item() - running_loss_train) / batch_idx\n",
    "            \n",
    "    model_clstm.eval()\n",
    "    with torch.no_grad():\n",
    "        for batch_idx, (data, target) in enumerate(sample_val, 1):\n",
    "            if data.size()[0]>0:\n",
    "                inputs = Variable(data)\n",
    "                labels = Variable(target)\n",
    "                outputs= model_clstm(inputs)\n",
    "                loss = criterion(outputs, labels)\n",
    "                running_loss_test += (loss.item() - running_loss_test) / batch_idx\n",
    "    \n",
    "    running_loss_train_ls.append(running_loss_train)\n",
    "    running_loss_test_ls.append(running_loss_test)\n",
    "        \n",
    "    if epoch % 7 == 0:\n",
    "        print('----------'+str(epoch)+'----------')\n",
    "        print(\"running loss train\", running_loss_train)\n",
    "        print(\"running loss val\", running_loss_test)\n",
    "        print(\"time every epoch: \"+str((time.time()-L)/60))"
   ]
  },
  {
   "cell_type": "code",
   "execution_count": 60,
   "metadata": {},
   "outputs": [
    {
     "data": {
      "text/plain": [
       "<matplotlib.axes._subplots.AxesSubplot at 0x1a3a5767b8>"
      ]
     },
     "execution_count": 60,
     "metadata": {},
     "output_type": "execute_result"
    },
    {
     "data": {
      "image/png": "[encoded data removed]",
      "text/plain": [
       "<Figure size 432x288 with 1 Axes>"
      ]
     },
     "metadata": {
      "needs_background": "light"
     },
     "output_type": "display_data"
    }
   ],
   "source": [
    "data_eval=pd.DataFrame({'train':running_loss_train_ls,'val':running_loss_test_ls})\n",
    "data_eval.plot()"
   ]
  },
  {
   "cell_type": "code",
   "execution_count": null,
   "metadata": {},
   "outputs": [],
   "source": []
  },
  {
   "cell_type": "code",
   "execution_count": 57,
   "metadata": {},
   "outputs": [
    {
     "data": {
      "text/plain": [
       "2"
      ]
     },
     "execution_count": 57,
     "metadata": {},
     "output_type": "execute_result"
    }
   ],
   "source": [
    "1+1"
   ]
  },
  {
   "cell_type": "code",
   "execution_count": 20,
   "metadata": {},
   "outputs": [
    {
     "data": {
      "text/plain": [
       "ModelLstm(\n",
       "  (lstm): LSTM(26, 25)\n",
       "  (linear): Linear(in_features=25, out_features=15, bias=False)\n",
       "  (sigmoid): Sigmoid()\n",
       ")"
      ]
     },
     "execution_count": 20,
     "metadata": {},
     "output_type": "execute_result"
    }
   ],
   "source": [
    "model.eval()"
   ]
  },
  {
   "cell_type": "code",
   "execution_count": 21,
   "metadata": {},
   "outputs": [],
   "source": [
    "## Training\n",
    "XX=X_tr.copy()\n",
    "XX=Variable(torch.from_numpy(XX).type('torch.DoubleTensor'))\n",
    "yy=model(XX)"
   ]
  },
  {
   "cell_type": "code",
   "execution_count": 33,
   "metadata": {},
   "outputs": [
    {
     "data": {
      "text/plain": [
       "['000000000000000',\n",
       " '000000000000000',\n",
       " '000000000000000',\n",
       " '000000000000000',\n",
       " '000000000000000',\n",
       " '000000000000000',\n",
       " '000000000000000',\n",
       " '000000000000000',\n",
       " '000000000000000',\n",
       " '000000000000000']"
      ]
     },
     "execution_count": 33,
     "metadata": {},
     "output_type": "execute_result"
    }
   ],
   "source": [
    "yy0=yy[0].data.numpy()\n",
    "yy0=(yy0>0.5).astype(int).astype(str)\n",
    "yy0=[''.join(i) for i in yy0]\n",
    "yy0[:10]"
   ]
  },
  {
   "cell_type": "code",
   "execution_count": 34,
   "metadata": {},
   "outputs": [],
   "source": [
    "data_used_train['y_pred']=yy0"
   ]
  },
  {
   "cell_type": "code",
   "execution_count": 36,
   "metadata": {},
   "outputs": [
    {
     "data": {
      "text/html": [
       "<div>\n",
       "<style scoped>\n",
       "    .dataframe tbody tr th:only-of-type {\n",
       "        vertical-align: middle;\n",
       "    }\n",
       "\n",
       "    .dataframe tbody tr th {\n",
       "        vertical-align: top;\n",
       "    }\n",
       "\n",
       "    .dataframe thead th {\n",
       "        text-align: right;\n",
       "    }\n",
       "</style>\n",
       "<table border=\"1\" class=\"dataframe\">\n",
       "  <thead>\n",
       "    <tr style=\"text-align: right;\">\n",
       "      <th></th>\n",
       "      <th>source</th>\n",
       "      <th>target</th>\n",
       "      <th>ids</th>\n",
       "      <th>flag_space</th>\n",
       "      <th>y_pred</th>\n",
       "    </tr>\n",
       "  </thead>\n",
       "  <tbody>\n",
       "    <tr>\n",
       "      <th>50144</th>\n",
       "      <td>melainkandaerah</td>\n",
       "      <td>melainkan daerah</td>\n",
       "      <td>1637189</td>\n",
       "      <td>000000001000000</td>\n",
       "      <td>000000000000000</td>\n",
       "    </tr>\n",
       "    <tr>\n",
       "      <th>67640</th>\n",
       "      <td>menegaskantiket</td>\n",
       "      <td>menegaskan tiket</td>\n",
       "      <td>1719973</td>\n",
       "      <td>000000000100000</td>\n",
       "      <td>000000000000000</td>\n",
       "    </tr>\n",
       "    <tr>\n",
       "      <th>87884</th>\n",
       "      <td>pelakusetiapini</td>\n",
       "      <td>pelaku setiap ini</td>\n",
       "      <td>1815936</td>\n",
       "      <td>000001000001000</td>\n",
       "      <td>000000000000000</td>\n",
       "    </tr>\n",
       "    <tr>\n",
       "      <th>32800</th>\n",
       "      <td>tahunberbobotdi</td>\n",
       "      <td>tahun berbobot di</td>\n",
       "      <td>1554907</td>\n",
       "      <td>000010000000100</td>\n",
       "      <td>000000000000000</td>\n",
       "    </tr>\n",
       "    <tr>\n",
       "      <th>60884</th>\n",
       "      <td>terpopulerdalam</td>\n",
       "      <td>terpopuler dalam</td>\n",
       "      <td>1687901</td>\n",
       "      <td>000000000100000</td>\n",
       "      <td>000000000000000</td>\n",
       "    </tr>\n",
       "    <tr>\n",
       "      <th>15182</th>\n",
       "      <td>identikinisudah</td>\n",
       "      <td>identik ini sudah</td>\n",
       "      <td>1471301</td>\n",
       "      <td>000000100100000</td>\n",
       "      <td>000000000000000</td>\n",
       "    </tr>\n",
       "    <tr>\n",
       "      <th>65497</th>\n",
       "      <td>denganpekerjaan</td>\n",
       "      <td>dengan pekerjaan</td>\n",
       "      <td>1709857</td>\n",
       "      <td>000001000000000</td>\n",
       "      <td>000000000000000</td>\n",
       "    </tr>\n",
       "    <tr>\n",
       "      <th>48114</th>\n",
       "      <td>mobiltahunsedan</td>\n",
       "      <td>mobil tahun sedan</td>\n",
       "      <td>1627587</td>\n",
       "      <td>000010000100000</td>\n",
       "      <td>000000000000000</td>\n",
       "    </tr>\n",
       "    <tr>\n",
       "      <th>58791</th>\n",
       "      <td>terkaitterhadap</td>\n",
       "      <td>terkait terhadap</td>\n",
       "      <td>1678152</td>\n",
       "      <td>000000100000000</td>\n",
       "      <td>000000000000000</td>\n",
       "    </tr>\n",
       "    <tr>\n",
       "      <th>31506</th>\n",
       "      <td>sertatariftahap</td>\n",
       "      <td>serta tarif tahap</td>\n",
       "      <td>1548878</td>\n",
       "      <td>000010000100000</td>\n",
       "      <td>000000000000000</td>\n",
       "    </tr>\n",
       "  </tbody>\n",
       "</table>\n",
       "</div>"
      ],
      "text/plain": [
       "                source             target      ids       flag_space  \\\n",
       "50144  melainkandaerah   melainkan daerah  1637189  000000001000000   \n",
       "67640  menegaskantiket   menegaskan tiket  1719973  000000000100000   \n",
       "87884  pelakusetiapini  pelaku setiap ini  1815936  000001000001000   \n",
       "32800  tahunberbobotdi  tahun berbobot di  1554907  000010000000100   \n",
       "60884  terpopulerdalam   terpopuler dalam  1687901  000000000100000   \n",
       "15182  identikinisudah  identik ini sudah  1471301  000000100100000   \n",
       "65497  denganpekerjaan   dengan pekerjaan  1709857  000001000000000   \n",
       "48114  mobiltahunsedan  mobil tahun sedan  1627587  000010000100000   \n",
       "58791  terkaitterhadap   terkait terhadap  1678152  000000100000000   \n",
       "31506  sertatariftahap  serta tarif tahap  1548878  000010000100000   \n",
       "\n",
       "                y_pred  \n",
       "50144  000000000000000  \n",
       "67640  000000000000000  \n",
       "87884  000000000000000  \n",
       "32800  000000000000000  \n",
       "60884  000000000000000  \n",
       "15182  000000000000000  \n",
       "65497  000000000000000  \n",
       "48114  000000000000000  \n",
       "58791  000000000000000  \n",
       "31506  000000000000000  "
      ]
     },
     "execution_count": 36,
     "metadata": {},
     "output_type": "execute_result"
    }
   ],
   "source": [
    "data_used_train.sample(10)"
   ]
  },
  {
   "cell_type": "code",
   "execution_count": null,
   "metadata": {},
   "outputs": [],
   "source": []
  },
  {
   "cell_type": "code",
   "execution_count": null,
   "metadata": {},
   "outputs": [],
   "source": []
  },
  {
   "cell_type": "markdown",
   "metadata": {},
   "source": [
    "## Test it"
   ]
  },
  {
   "cell_type": "code",
   "execution_count": 37,
   "metadata": {},
   "outputs": [],
   "source": [
    "## Test it\n",
    "XX=X_te.copy()\n",
    "XX=Variable(torch.from_numpy(XX).type('torch.DoubleTensor'))\n",
    "yy=model(XX)"
   ]
  },
  {
   "cell_type": "code",
   "execution_count": 38,
   "metadata": {},
   "outputs": [
    {
     "data": {
      "text/plain": [
       "['000000000000000',\n",
       " '000000000000000',\n",
       " '000000000000000',\n",
       " '000000000000000',\n",
       " '000000000000000',\n",
       " '000000000000000',\n",
       " '000000000000000',\n",
       " '000000000000000',\n",
       " '000000000000000',\n",
       " '000000000000000']"
      ]
     },
     "execution_count": 38,
     "metadata": {},
     "output_type": "execute_result"
    }
   ],
   "source": [
    "yy0=yy[0].data.numpy()\n",
    "yy0=(yy0>0.5).astype(int).astype(str)\n",
    "yy0=[''.join(i) for i in yy0]\n",
    "yy0[:10]"
   ]
  },
  {
   "cell_type": "code",
   "execution_count": 39,
   "metadata": {},
   "outputs": [
    {
     "name": "stderr",
     "output_type": "stream",
     "text": [
      "/Users/alamhanz/anaconda/envs/word_s/lib/python3.7/site-packages/ipykernel/__main__.py:1: SettingWithCopyWarning: \n",
      "A value is trying to be set on a copy of a slice from a DataFrame.\n",
      "Try using .loc[row_indexer,col_indexer] = value instead\n",
      "\n",
      "See the caveats in the documentation: http://pandas.pydata.org/pandas-docs/stable/indexing.html#indexing-view-versus-copy\n",
      "  if __name__ == '__main__':\n"
     ]
    }
   ],
   "source": [
    "data_used_test['y_pred']=yy0"
   ]
  },
  {
   "cell_type": "code",
   "execution_count": 40,
   "metadata": {},
   "outputs": [
    {
     "data": {
      "text/html": [
       "<div>\n",
       "<style scoped>\n",
       "    .dataframe tbody tr th:only-of-type {\n",
       "        vertical-align: middle;\n",
       "    }\n",
       "\n",
       "    .dataframe tbody tr th {\n",
       "        vertical-align: top;\n",
       "    }\n",
       "\n",
       "    .dataframe thead th {\n",
       "        text-align: right;\n",
       "    }\n",
       "</style>\n",
       "<table border=\"1\" class=\"dataframe\">\n",
       "  <thead>\n",
       "    <tr style=\"text-align: right;\">\n",
       "      <th></th>\n",
       "      <th>source</th>\n",
       "      <th>target</th>\n",
       "      <th>ids</th>\n",
       "      <th>flag_space</th>\n",
       "      <th>y_pred</th>\n",
       "    </tr>\n",
       "  </thead>\n",
       "  <tbody>\n",
       "    <tr>\n",
       "      <th>12342</th>\n",
       "      <td>sepakperusahaan</td>\n",
       "      <td>sepak perusahaan</td>\n",
       "      <td>1457750</td>\n",
       "      <td>000010000000000</td>\n",
       "      <td>000000000000000</td>\n",
       "    </tr>\n",
       "    <tr>\n",
       "      <th>9138</th>\n",
       "      <td>miliarmelakukan</td>\n",
       "      <td>miliar melakukan</td>\n",
       "      <td>1442854</td>\n",
       "      <td>000001000000000</td>\n",
       "      <td>000000000000000</td>\n",
       "    </tr>\n",
       "    <tr>\n",
       "      <th>3403</th>\n",
       "      <td>asalpendaftaran</td>\n",
       "      <td>asal pendaftaran</td>\n",
       "      <td>1416167</td>\n",
       "      <td>000100000000000</td>\n",
       "      <td>000000000000000</td>\n",
       "    </tr>\n",
       "    <tr>\n",
       "      <th>74342</th>\n",
       "      <td>jelasnyastadium</td>\n",
       "      <td>jelasnya stadium</td>\n",
       "      <td>1751813</td>\n",
       "      <td>000000010000000</td>\n",
       "      <td>000000000000000</td>\n",
       "    </tr>\n",
       "    <tr>\n",
       "      <th>12597</th>\n",
       "      <td>cmnphargaplakat</td>\n",
       "      <td>cmnp harga plakat</td>\n",
       "      <td>1459043</td>\n",
       "      <td>000100001000000</td>\n",
       "      <td>000000000000000</td>\n",
       "    </tr>\n",
       "    <tr>\n",
       "      <th>86940</th>\n",
       "      <td>bahwadenganyang</td>\n",
       "      <td>bahwa dengan yang</td>\n",
       "      <td>1811573</td>\n",
       "      <td>000010000010000</td>\n",
       "      <td>000000000000000</td>\n",
       "    </tr>\n",
       "    <tr>\n",
       "      <th>54344</th>\n",
       "      <td>terjadibniingin</td>\n",
       "      <td>terjadi bni ingin</td>\n",
       "      <td>1657235</td>\n",
       "      <td>000000100100000</td>\n",
       "      <td>000000000000000</td>\n",
       "    </tr>\n",
       "    <tr>\n",
       "      <th>8989</th>\n",
       "      <td>untuktetappiper</td>\n",
       "      <td>untuk tetap piper</td>\n",
       "      <td>1442103</td>\n",
       "      <td>000010000100000</td>\n",
       "      <td>000000000000000</td>\n",
       "    </tr>\n",
       "    <tr>\n",
       "      <th>15108</th>\n",
       "      <td>ratelalusamping</td>\n",
       "      <td>rate lalu samping</td>\n",
       "      <td>1471008</td>\n",
       "      <td>000100010000000</td>\n",
       "      <td>000000000000000</td>\n",
       "    </tr>\n",
       "    <tr>\n",
       "      <th>28477</th>\n",
       "      <td>danyangnokiadwi</td>\n",
       "      <td>dan yang nokia dwi</td>\n",
       "      <td>1534286</td>\n",
       "      <td>001000100001000</td>\n",
       "      <td>000000000000000</td>\n",
       "    </tr>\n",
       "  </tbody>\n",
       "</table>\n",
       "</div>"
      ],
      "text/plain": [
       "                source              target      ids       flag_space  \\\n",
       "12342  sepakperusahaan    sepak perusahaan  1457750  000010000000000   \n",
       "9138   miliarmelakukan    miliar melakukan  1442854  000001000000000   \n",
       "3403   asalpendaftaran    asal pendaftaran  1416167  000100000000000   \n",
       "74342  jelasnyastadium    jelasnya stadium  1751813  000000010000000   \n",
       "12597  cmnphargaplakat   cmnp harga plakat  1459043  000100001000000   \n",
       "86940  bahwadenganyang   bahwa dengan yang  1811573  000010000010000   \n",
       "54344  terjadibniingin   terjadi bni ingin  1657235  000000100100000   \n",
       "8989   untuktetappiper   untuk tetap piper  1442103  000010000100000   \n",
       "15108  ratelalusamping   rate lalu samping  1471008  000100010000000   \n",
       "28477  danyangnokiadwi  dan yang nokia dwi  1534286  001000100001000   \n",
       "\n",
       "                y_pred  \n",
       "12342  000000000000000  \n",
       "9138   000000000000000  \n",
       "3403   000000000000000  \n",
       "74342  000000000000000  \n",
       "12597  000000000000000  \n",
       "86940  000000000000000  \n",
       "54344  000000000000000  \n",
       "8989   000000000000000  \n",
       "15108  000000000000000  \n",
       "28477  000000000000000  "
      ]
     },
     "execution_count": 40,
     "metadata": {},
     "output_type": "execute_result"
    }
   ],
   "source": [
    "data_used_train.sample(10)"
   ]
  },
  {
   "cell_type": "code",
   "execution_count": null,
   "metadata": {},
   "outputs": [],
   "source": []
  }
 ],
 "metadata": {
  "kernelspec": {
   "display_name": "Python [conda env:word_s]",
   "language": "python",
   "name": "conda-env-word_s-py"
  },
  "language_info": {
   "codemirror_mode": {
    "name": "ipython",
    "version": 3
   },
   "file_extension": ".py",
   "mimetype": "text/x-python",
   "name": "python",
   "nbconvert_exporter": "python",
   "pygments_lexer": "ipython3",
   "version": "3.7.3"
  }
 },
 "nbformat": 4,
 "nbformat_minor": 2
}
