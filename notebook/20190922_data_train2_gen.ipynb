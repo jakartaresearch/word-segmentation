{
 "cells": [
  {
   "cell_type": "markdown",
   "metadata": {},
   "source": [
    "# Generate Data Train type 2\n",
    "\n",
    "generate data train second type, its data training for sliding window prediction"
   ]
  },
  {
   "cell_type": "code",
   "execution_count": 1,
   "metadata": {},
   "outputs": [],
   "source": [
    "import pandas as pd\n",
    "import os\n",
    "import pickle\n",
    "import numpy as np"
   ]
  },
  {
   "cell_type": "code",
   "execution_count": 2,
   "metadata": {},
   "outputs": [],
   "source": [
    "PATH_DATA_RAW='../../data/raw/'\n",
    "PATH_DATA_CLN='../../data/clean/'\n",
    "PATH_MODEL='../../data/model/'"
   ]
  },
  {
   "cell_type": "code",
   "execution_count": 3,
   "metadata": {},
   "outputs": [
    {
     "data": {
      "text/plain": [
       "['.ipynb_checkpoints', 'data_clean_100k.res']"
      ]
     },
     "execution_count": 3,
     "metadata": {},
     "output_type": "execute_result"
    }
   ],
   "source": [
    "os.listdir(PATH_DATA_CLN)"
   ]
  },
  {
   "cell_type": "code",
   "execution_count": 4,
   "metadata": {},
   "outputs": [
    {
     "data": {
      "text/plain": [
       "['char_embed_25.res', 'char_embed_50.res', 'char_embed_75.res']"
      ]
     },
     "execution_count": 4,
     "metadata": {},
     "output_type": "execute_result"
    }
   ],
   "source": [
    "os.listdir(PATH_MODEL)"
   ]
  },
  {
   "cell_type": "code",
   "execution_count": null,
   "metadata": {},
   "outputs": [],
   "source": []
  },
  {
   "cell_type": "markdown",
   "metadata": {},
   "source": [
    "# Get Data"
   ]
  },
  {
   "cell_type": "code",
   "execution_count": 5,
   "metadata": {},
   "outputs": [],
   "source": [
    "data_cln=pickle.load(open(PATH_DATA_CLN+'data_clean_100k.res','rb'))"
   ]
  },
  {
   "cell_type": "code",
   "execution_count": 6,
   "metadata": {},
   "outputs": [
    {
     "data": {
      "text/plain": [
       "(1900000, 2)"
      ]
     },
     "execution_count": 6,
     "metadata": {},
     "output_type": "execute_result"
    }
   ],
   "source": [
    "# ' '.join(data_cln.target.tolist())\n",
    "data_cln.shape"
   ]
  },
  {
   "cell_type": "code",
   "execution_count": 7,
   "metadata": {},
   "outputs": [],
   "source": [
    "all_sentence=' '.join(data_cln.target.tolist())"
   ]
  },
  {
   "cell_type": "code",
   "execution_count": 8,
   "metadata": {},
   "outputs": [],
   "source": [
    "## Word Count\n",
    "all_words=pd.Series(all_sentence.split(' '))"
   ]
  },
  {
   "cell_type": "code",
   "execution_count": 9,
   "metadata": {},
   "outputs": [
    {
     "data": {
      "text/plain": [
       "di           167504\n",
       "yang         148399\n",
       "dan          128388\n",
       "ini           95300\n",
       "untuk         62210\n",
       "itu           60835\n",
       "dari          59597\n",
       "dengan        57507\n",
       "pada          57447\n",
       "akan          47321\n",
       "dalam         37813\n",
       "ke            33579\n",
       "juga          32035\n",
       "tidak         31382\n",
       "jakarta       29667\n",
       "bisa          29421\n",
       "dia           28300\n",
       "ada           27343\n",
       "saat          26638\n",
       "sudah         23030\n",
       "tahun         21759\n",
       "lebih         20556\n",
       "saya          20099\n",
       "menjadi       19640\n",
       "indonesia     19629\n",
       "tersebut      19455\n",
       "kami          19379\n",
       "atau          19190\n",
       "satu          17636\n",
       "liga          17528\n",
       "dtype: int64"
      ]
     },
     "execution_count": 9,
     "metadata": {},
     "output_type": "execute_result"
    }
   ],
   "source": [
    "all_words.value_counts().head(30)"
   ]
  },
  {
   "cell_type": "code",
   "execution_count": null,
   "metadata": {},
   "outputs": [],
   "source": []
  },
  {
   "cell_type": "markdown",
   "metadata": {},
   "source": [
    "## Clean Sentence\n",
    "\n",
    "Dalam bahasa indonesia tidak mengandung :\n",
    "1. kata dengan 1 huruf\n",
    "2. kata dengan 2 huruf konsonan or 2 huruf vocal\n",
    "3. consecutive same word is not more than 2"
   ]
  },
  {
   "cell_type": "code",
   "execution_count": 15,
   "metadata": {},
   "outputs": [],
   "source": [
    "def most_consecutive_same_count(x):\n",
    "    list_cnt=[]\n",
    "    cnt=0\n",
    "    s0=x[0]\n",
    "    for s in x[1:]:\n",
    "        if s==s0:\n",
    "            cnt+=1\n",
    "            s0=s\n",
    "        else:\n",
    "            list_cnt.append(cnt)\n",
    "            cnt=0\n",
    "            s0=s\n",
    "    list_cnt.append(cnt)\n",
    "    \n",
    "    try:\n",
    "        res=np.max(list_cnt)+1\n",
    "    except:\n",
    "        print(x)\n",
    "            \n",
    "    return res\n",
    "\n",
    "def check_word(x):\n",
    "    voc=['a','i','u','e','o']\n",
    "    if len(x)==1:\n",
    "        return False    \n",
    "    else:\n",
    "        if len(x)!=2:\n",
    "            if most_consecutive_same_count(x)>2:\n",
    "                return False\n",
    "            else:\n",
    "                return True\n",
    "        \n",
    "        else:\n",
    "#             if (x[0] not in voc)&(x[0] not in voc)&(x[1] in voc):\n",
    "            if x in ['ke','di','ya','mu']:\n",
    "                return True\n",
    "            else:\n",
    "                return False\n",
    "            \n"
   ]
  },
  {
   "cell_type": "code",
   "execution_count": 16,
   "metadata": {},
   "outputs": [],
   "source": [
    "all_sentence_cln=' '.join([i for i in all_sentence.split(' ') if check_word(i)])"
   ]
  },
  {
   "cell_type": "code",
   "execution_count": null,
   "metadata": {},
   "outputs": [],
   "source": []
  },
  {
   "cell_type": "markdown",
   "metadata": {},
   "source": [
    "## Slide sentence"
   ]
  },
  {
   "cell_type": "code",
   "execution_count": 17,
   "metadata": {},
   "outputs": [],
   "source": [
    "get_all_slide_6=[]\n",
    "i=0\n",
    "while True :\n",
    "    wind=all_sentence_cln[0+i:6+i]\n",
    "    if (len(wind)>0) & (i<2500000):\n",
    "        get_all_slide_6.append(wind)\n",
    "    else:\n",
    "        break\n",
    "    i+=1"
   ]
  },
  {
   "cell_type": "code",
   "execution_count": 18,
   "metadata": {},
   "outputs": [],
   "source": [
    "get_all_slide_7=[]\n",
    "i=0\n",
    "while True :\n",
    "    wind=all_sentence_cln[0+i:7+i]\n",
    "    if (len(wind)>0) & (i<2000000):\n",
    "        get_all_slide_7.append(wind)\n",
    "    else:\n",
    "        break\n",
    "    i+=1"
   ]
  },
  {
   "cell_type": "code",
   "execution_count": 19,
   "metadata": {},
   "outputs": [],
   "source": [
    "get_all_slide_8=[]\n",
    "i=0\n",
    "while True :\n",
    "    wind=all_sentence_cln[0+i:8+i]\n",
    "    if (len(wind)>0) & (i<1800000):\n",
    "        get_all_slide_8.append(wind)\n",
    "    else:\n",
    "        break\n",
    "    i+=1"
   ]
  },
  {
   "cell_type": "code",
   "execution_count": 20,
   "metadata": {},
   "outputs": [],
   "source": [
    "get_all_slide_9=[]\n",
    "i=0\n",
    "while True :\n",
    "    wind=all_sentence_cln[0+i:9+i]\n",
    "    if (len(wind)>0) & (i<1500000):\n",
    "        get_all_slide_9.append(wind)\n",
    "    else:\n",
    "        break\n",
    "    i+=1"
   ]
  },
  {
   "cell_type": "code",
   "execution_count": 21,
   "metadata": {},
   "outputs": [],
   "source": [
    "slides=get_all_slide_6+get_all_slide_7+get_all_slide_8+get_all_slide_9\n",
    "ori_len_slides=([6]*len(get_all_slide_6))+([7]*len(get_all_slide_7))+([8]*len(get_all_slide_8))+([9]*len(get_all_slide_9))\n",
    "df_data_slides=pd.DataFrame({'slides':slides,'ori_len':ori_len_slides})"
   ]
  },
  {
   "cell_type": "code",
   "execution_count": 22,
   "metadata": {},
   "outputs": [],
   "source": [
    "df_data_slides['slides_no_space']=df_data_slides.slides.apply(lambda x: ''.join(x.split(' ')))\n",
    "df_data_slides['space_cnt']=df_data_slides.slides.apply(lambda x: len(x.strip().split(' '))-1)\n",
    "df_data_slides['slides_no_space_len']=df_data_slides.slides_no_space.apply(lambda x: len(x))"
   ]
  },
  {
   "cell_type": "code",
   "execution_count": 23,
   "metadata": {},
   "outputs": [
    {
     "data": {
      "text/html": [
       "<div>\n",
       "<style scoped>\n",
       "    .dataframe tbody tr th:only-of-type {\n",
       "        vertical-align: middle;\n",
       "    }\n",
       "\n",
       "    .dataframe tbody tr th {\n",
       "        vertical-align: top;\n",
       "    }\n",
       "\n",
       "    .dataframe thead th {\n",
       "        text-align: right;\n",
       "    }\n",
       "</style>\n",
       "<table border=\"1\" class=\"dataframe\">\n",
       "  <thead>\n",
       "    <tr style=\"text-align: right;\">\n",
       "      <th></th>\n",
       "      <th>slides</th>\n",
       "      <th>ori_len</th>\n",
       "      <th>slides_no_space</th>\n",
       "      <th>space_cnt</th>\n",
       "      <th>slides_no_space_len</th>\n",
       "    </tr>\n",
       "  </thead>\n",
       "  <tbody>\n",
       "    <tr>\n",
       "      <th>0</th>\n",
       "      <td>itu mu</td>\n",
       "      <td>6</td>\n",
       "      <td>itumu</td>\n",
       "      <td>1</td>\n",
       "      <td>5</td>\n",
       "    </tr>\n",
       "    <tr>\n",
       "      <th>1</th>\n",
       "      <td>tu mul</td>\n",
       "      <td>6</td>\n",
       "      <td>tumul</td>\n",
       "      <td>1</td>\n",
       "      <td>5</td>\n",
       "    </tr>\n",
       "    <tr>\n",
       "      <th>2</th>\n",
       "      <td>u mulu</td>\n",
       "      <td>6</td>\n",
       "      <td>umulu</td>\n",
       "      <td>1</td>\n",
       "      <td>5</td>\n",
       "    </tr>\n",
       "    <tr>\n",
       "      <th>3</th>\n",
       "      <td>mulus</td>\n",
       "      <td>6</td>\n",
       "      <td>mulus</td>\n",
       "      <td>0</td>\n",
       "      <td>5</td>\n",
       "    </tr>\n",
       "    <tr>\n",
       "      <th>4</th>\n",
       "      <td>mulus</td>\n",
       "      <td>6</td>\n",
       "      <td>mulus</td>\n",
       "      <td>0</td>\n",
       "      <td>5</td>\n",
       "    </tr>\n",
       "  </tbody>\n",
       "</table>\n",
       "</div>"
      ],
      "text/plain": [
       "   slides  ori_len slides_no_space  space_cnt  slides_no_space_len\n",
       "0  itu mu        6           itumu          1                    5\n",
       "1  tu mul        6           tumul          1                    5\n",
       "2  u mulu        6           umulu          1                    5\n",
       "3   mulus        6           mulus          0                    5\n",
       "4  mulus         6           mulus          0                    5"
      ]
     },
     "execution_count": 23,
     "metadata": {},
     "output_type": "execute_result"
    }
   ],
   "source": [
    "df_data_slides.head()"
   ]
  },
  {
   "cell_type": "code",
   "execution_count": 24,
   "metadata": {},
   "outputs": [
    {
     "data": {
      "text/plain": [
       "array([1, 0, 2, 3])"
      ]
     },
     "execution_count": 24,
     "metadata": {},
     "output_type": "execute_result"
    }
   ],
   "source": [
    "df_data_slides.space_cnt.unique()"
   ]
  },
  {
   "cell_type": "code",
   "execution_count": 26,
   "metadata": {},
   "outputs": [],
   "source": [
    "## 3 space doesnt make any sense for bahasa\n",
    "# df_data_slides[df_data_slides.space_cnt==3]"
   ]
  },
  {
   "cell_type": "code",
   "execution_count": 27,
   "metadata": {},
   "outputs": [],
   "source": [
    "df_data_slides_make_sense=df_data_slides[df_data_slides.space_cnt!=3]"
   ]
  },
  {
   "cell_type": "code",
   "execution_count": 28,
   "metadata": {},
   "outputs": [
    {
     "data": {
      "text/plain": [
       "6    2383354\n",
       "5    2159998\n",
       "7    1995391\n",
       "8    1020081\n",
       "4     186775\n",
       "9      54267\n",
       "Name: slides_no_space_len, dtype: int64"
      ]
     },
     "execution_count": 28,
     "metadata": {},
     "output_type": "execute_result"
    }
   ],
   "source": [
    "df_data_slides_make_sense.slides_no_space_len.value_counts()"
   ]
  },
  {
   "cell_type": "code",
   "execution_count": 29,
   "metadata": {},
   "outputs": [
    {
     "data": {
      "text/plain": [
       "7    1461006\n",
       "6     462648\n",
       "8     451208\n",
       "9       8492\n",
       "Name: ori_len, dtype: int64"
      ]
     },
     "execution_count": 29,
     "metadata": {},
     "output_type": "execute_result"
    }
   ],
   "source": [
    "df_data_slides_make_sense[df_data_slides_make_sense.slides_no_space_len==6].ori_len.value_counts()"
   ]
  },
  {
   "cell_type": "code",
   "execution_count": 30,
   "metadata": {},
   "outputs": [
    {
     "data": {
      "text/plain": [
       "1    1469407\n",
       "0     776502\n",
       "2     137445\n",
       "Name: space_cnt, dtype: int64"
      ]
     },
     "execution_count": 30,
     "metadata": {},
     "output_type": "execute_result"
    }
   ],
   "source": [
    "df_data_slides_make_sense[df_data_slides_make_sense.slides_no_space_len==6].space_cnt.value_counts()"
   ]
  },
  {
   "cell_type": "code",
   "execution_count": 31,
   "metadata": {},
   "outputs": [],
   "source": [
    "df_slides6=df_data_slides_make_sense[df_data_slides_make_sense.slides_no_space_len==6]"
   ]
  },
  {
   "cell_type": "code",
   "execution_count": 33,
   "metadata": {},
   "outputs": [],
   "source": [
    "# df_slides6"
   ]
  },
  {
   "cell_type": "code",
   "execution_count": 34,
   "metadata": {},
   "outputs": [],
   "source": [
    "pickle.dump(df_slides6, open('../../data/clean/data_train2_for_slides.res', 'wb'))"
   ]
  },
  {
   "cell_type": "code",
   "execution_count": null,
   "metadata": {},
   "outputs": [],
   "source": []
  }
 ],
 "metadata": {
  "kernelspec": {
   "display_name": "Python [conda env:word_s]",
   "language": "python",
   "name": "conda-env-word_s-py"
  },
  "language_info": {
   "codemirror_mode": {
    "name": "ipython",
    "version": 3
   },
   "file_extension": ".py",
   "mimetype": "text/x-python",
   "name": "python",
   "nbconvert_exporter": "python",
   "pygments_lexer": "ipython3",
   "version": "3.7.3"
  }
 },
 "nbformat": 4,
 "nbformat_minor": 2
}
