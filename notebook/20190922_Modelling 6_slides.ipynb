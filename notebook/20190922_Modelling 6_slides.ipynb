{
 "cells": [
  {
   "cell_type": "markdown",
   "metadata": {},
   "source": [
    "# Word Segmentation Modelling (version : alam.2.0)\n",
    "\n",
    "This is the modelling documentation of Word Segmentation\n",
    "\n",
    "First Structured :\n",
    "\n",
    "\n",
    "Input :\n",
    "\n",
    "    Slides Data\n",
    "    WORD2VEC 50\n",
    "    \n",
    "\n",
    "output :\n",
    "\n",
    "    Multi Conv LSTM\n",
    "\n",
    "\n",
    "## Plan\n",
    "\n",
    "    [*] Get Data\n",
    "    [*] Transform the data\n",
    "    [ ] Prepare the model\n",
    "    [ ] Train it"
   ]
  },
  {
   "cell_type": "code",
   "execution_count": 1,
   "metadata": {},
   "outputs": [],
   "source": [
    "%matplotlib inline\n",
    "import sys\n",
    "sys.path.append('../scr/')\n",
    "import pandas as pd\n",
    "import torch\n",
    "import numpy as np\n",
    "import os\n",
    "import pickle\n",
    "import WordSegmenTools as wst\n",
    "from torch.autograd import Variable\n",
    "import random\n",
    "from sklearn.preprocessing import OneHotEncoder\n",
    "from gensim.models import Word2Vec\n",
    "import time"
   ]
  },
  {
   "cell_type": "code",
   "execution_count": 2,
   "metadata": {},
   "outputs": [],
   "source": [
    "PATH_DATA_RAW='../../data/raw/'\n",
    "PATH_DATA_CLN='../../data/clean/'\n",
    "PATH_MODEL='../../data/model/'"
   ]
  },
  {
   "cell_type": "code",
   "execution_count": 3,
   "metadata": {},
   "outputs": [
    {
     "data": {
      "text/plain": [
       "['.ipynb_checkpoints', 'data_clean_100k.res', 'data_train2_for_slides.res']"
      ]
     },
     "execution_count": 3,
     "metadata": {},
     "output_type": "execute_result"
    }
   ],
   "source": [
    "os.listdir(PATH_DATA_CLN)"
   ]
  },
  {
   "cell_type": "code",
   "execution_count": 4,
   "metadata": {},
   "outputs": [
    {
     "data": {
      "text/plain": [
       "['char_embed_25.res', 'char_embed_50.res', 'char_embed_75.res']"
      ]
     },
     "execution_count": 4,
     "metadata": {},
     "output_type": "execute_result"
    }
   ],
   "source": [
    "os.listdir(PATH_MODEL)"
   ]
  },
  {
   "cell_type": "code",
   "execution_count": null,
   "metadata": {},
   "outputs": [],
   "source": []
  },
  {
   "cell_type": "markdown",
   "metadata": {},
   "source": [
    "## Get Data"
   ]
  },
  {
   "cell_type": "code",
   "execution_count": 5,
   "metadata": {},
   "outputs": [],
   "source": [
    "SEQ_LENGTH=6"
   ]
  },
  {
   "cell_type": "code",
   "execution_count": 6,
   "metadata": {},
   "outputs": [
    {
     "name": "stderr",
     "output_type": "stream",
     "text": [
      "/Users/alamhanz/anaconda/envs/word_s/lib/python3.7/site-packages/smart_open/smart_open_lib.py:398: UserWarning: This function is deprecated, use smart_open.open instead. See the migration notes for details: https://github.com/RaRe-Technologies/smart_open/blob/master/README.rst#migrating-to-the-new-open-function\n",
      "  'See the migration notes for details: %s' % _MIGRATION_NOTES_URL\n"
     ]
    }
   ],
   "source": [
    "# data_cln=pd.read_csv(PATH_DATA_CLN+'data_clean_100k.res')\n",
    "data_cln=pickle.load(open(PATH_DATA_CLN+'data_train2_for_slides.res','rb'))\n",
    "w2v = Word2Vec.load(PATH_MODEL+\"char_embed_50.res\")"
   ]
  },
  {
   "cell_type": "code",
   "execution_count": 7,
   "metadata": {},
   "outputs": [],
   "source": [
    "data_cln['slides_trim']=data_cln.slides.apply(lambda x: x.strip())"
   ]
  },
  {
   "cell_type": "code",
   "execution_count": 8,
   "metadata": {},
   "outputs": [
    {
     "data": {
      "text/html": [
       "<div>\n",
       "<style scoped>\n",
       "    .dataframe tbody tr th:only-of-type {\n",
       "        vertical-align: middle;\n",
       "    }\n",
       "\n",
       "    .dataframe tbody tr th {\n",
       "        vertical-align: top;\n",
       "    }\n",
       "\n",
       "    .dataframe thead th {\n",
       "        text-align: right;\n",
       "    }\n",
       "</style>\n",
       "<table border=\"1\" class=\"dataframe\">\n",
       "  <thead>\n",
       "    <tr style=\"text-align: right;\">\n",
       "      <th></th>\n",
       "      <th>slides</th>\n",
       "      <th>ori_len</th>\n",
       "      <th>slides_no_space</th>\n",
       "      <th>space_cnt</th>\n",
       "      <th>slides_no_space_len</th>\n",
       "      <th>slides_trim</th>\n",
       "    </tr>\n",
       "  </thead>\n",
       "  <tbody>\n",
       "    <tr>\n",
       "      <th>20</th>\n",
       "      <td>katany</td>\n",
       "      <td>6</td>\n",
       "      <td>katany</td>\n",
       "      <td>0</td>\n",
       "      <td>6</td>\n",
       "      <td>katany</td>\n",
       "    </tr>\n",
       "    <tr>\n",
       "      <th>21</th>\n",
       "      <td>atanya</td>\n",
       "      <td>6</td>\n",
       "      <td>atanya</td>\n",
       "      <td>0</td>\n",
       "      <td>6</td>\n",
       "      <td>atanya</td>\n",
       "    </tr>\n",
       "    <tr>\n",
       "      <th>28</th>\n",
       "      <td>pembel</td>\n",
       "      <td>6</td>\n",
       "      <td>pembel</td>\n",
       "      <td>0</td>\n",
       "      <td>6</td>\n",
       "      <td>pembel</td>\n",
       "    </tr>\n",
       "    <tr>\n",
       "      <th>29</th>\n",
       "      <td>embeli</td>\n",
       "      <td>6</td>\n",
       "      <td>embeli</td>\n",
       "      <td>0</td>\n",
       "      <td>6</td>\n",
       "      <td>embeli</td>\n",
       "    </tr>\n",
       "    <tr>\n",
       "      <th>30</th>\n",
       "      <td>mbelia</td>\n",
       "      <td>6</td>\n",
       "      <td>mbelia</td>\n",
       "      <td>0</td>\n",
       "      <td>6</td>\n",
       "      <td>mbelia</td>\n",
       "    </tr>\n",
       "  </tbody>\n",
       "</table>\n",
       "</div>"
      ],
      "text/plain": [
       "    slides  ori_len slides_no_space  space_cnt  slides_no_space_len  \\\n",
       "20  katany        6          katany          0                    6   \n",
       "21  atanya        6          atanya          0                    6   \n",
       "28  pembel        6          pembel          0                    6   \n",
       "29  embeli        6          embeli          0                    6   \n",
       "30  mbelia        6          mbelia          0                    6   \n",
       "\n",
       "   slides_trim  \n",
       "20      katany  \n",
       "21      atanya  \n",
       "28      pembel  \n",
       "29      embeli  \n",
       "30      mbelia  "
      ]
     },
     "execution_count": 8,
     "metadata": {},
     "output_type": "execute_result"
    }
   ],
   "source": [
    "data_cln.head()"
   ]
  },
  {
   "cell_type": "code",
   "execution_count": 9,
   "metadata": {},
   "outputs": [],
   "source": [
    "## second space position should reduce by 1 in prediction\n",
    "data_cln['space_position']=data_cln.slides_trim.apply(lambda x : ','.join((np.where(np.array(list(x)) == ' ')[0]).astype(str)))"
   ]
  },
  {
   "cell_type": "code",
   "execution_count": 10,
   "metadata": {},
   "outputs": [],
   "source": [
    "data_cln['id']=[i for i in range(len(data_cln))]"
   ]
  },
  {
   "cell_type": "code",
   "execution_count": 11,
   "metadata": {},
   "outputs": [
    {
     "data": {
      "text/html": [
       "<div>\n",
       "<style scoped>\n",
       "    .dataframe tbody tr th:only-of-type {\n",
       "        vertical-align: middle;\n",
       "    }\n",
       "\n",
       "    .dataframe tbody tr th {\n",
       "        vertical-align: top;\n",
       "    }\n",
       "\n",
       "    .dataframe thead th {\n",
       "        text-align: right;\n",
       "    }\n",
       "</style>\n",
       "<table border=\"1\" class=\"dataframe\">\n",
       "  <thead>\n",
       "    <tr style=\"text-align: right;\">\n",
       "      <th></th>\n",
       "      <th>slides</th>\n",
       "      <th>ori_len</th>\n",
       "      <th>slides_no_space</th>\n",
       "      <th>space_cnt</th>\n",
       "      <th>slides_no_space_len</th>\n",
       "      <th>slides_trim</th>\n",
       "      <th>space_position</th>\n",
       "      <th>id</th>\n",
       "    </tr>\n",
       "  </thead>\n",
       "  <tbody>\n",
       "    <tr>\n",
       "      <th>2938491</th>\n",
       "      <td>ideal s</td>\n",
       "      <td>7</td>\n",
       "      <td>ideals</td>\n",
       "      <td>1</td>\n",
       "      <td>6</td>\n",
       "      <td>ideal s</td>\n",
       "      <td>5</td>\n",
       "      <td>782919</td>\n",
       "    </tr>\n",
       "    <tr>\n",
       "      <th>4142006</th>\n",
       "      <td>ihapus</td>\n",
       "      <td>7</td>\n",
       "      <td>ihapus</td>\n",
       "      <td>0</td>\n",
       "      <td>6</td>\n",
       "      <td>ihapus</td>\n",
       "      <td></td>\n",
       "      <td>1662185</td>\n",
       "    </tr>\n",
       "    <tr>\n",
       "      <th>3771475</th>\n",
       "      <td>anya pi</td>\n",
       "      <td>7</td>\n",
       "      <td>anyapi</td>\n",
       "      <td>1</td>\n",
       "      <td>6</td>\n",
       "      <td>anya pi</td>\n",
       "      <td>4</td>\n",
       "      <td>1391002</td>\n",
       "    </tr>\n",
       "    <tr>\n",
       "      <th>3599978</th>\n",
       "      <td>solskj</td>\n",
       "      <td>7</td>\n",
       "      <td>solskj</td>\n",
       "      <td>0</td>\n",
       "      <td>6</td>\n",
       "      <td>solskj</td>\n",
       "      <td></td>\n",
       "      <td>1266129</td>\n",
       "    </tr>\n",
       "    <tr>\n",
       "      <th>3178669</th>\n",
       "      <td>upus te</td>\n",
       "      <td>7</td>\n",
       "      <td>upuste</td>\n",
       "      <td>1</td>\n",
       "      <td>6</td>\n",
       "      <td>upus te</td>\n",
       "      <td>4</td>\n",
       "      <td>958387</td>\n",
       "    </tr>\n",
       "    <tr>\n",
       "      <th>5690725</th>\n",
       "      <td>au hadi</td>\n",
       "      <td>8</td>\n",
       "      <td>auhadi</td>\n",
       "      <td>1</td>\n",
       "      <td>6</td>\n",
       "      <td>au hadi</td>\n",
       "      <td>2</td>\n",
       "      <td>2222103</td>\n",
       "    </tr>\n",
       "    <tr>\n",
       "      <th>2456941</th>\n",
       "      <td>pendap</td>\n",
       "      <td>6</td>\n",
       "      <td>pendap</td>\n",
       "      <td>0</td>\n",
       "      <td>6</td>\n",
       "      <td>pendap</td>\n",
       "      <td></td>\n",
       "      <td>454515</td>\n",
       "    </tr>\n",
       "    <tr>\n",
       "      <th>3598840</th>\n",
       "      <td>kan saa</td>\n",
       "      <td>7</td>\n",
       "      <td>kansaa</td>\n",
       "      <td>1</td>\n",
       "      <td>6</td>\n",
       "      <td>kan saa</td>\n",
       "      <td>3</td>\n",
       "      <td>1265300</td>\n",
       "    </tr>\n",
       "    <tr>\n",
       "      <th>2603627</th>\n",
       "      <td>us ters</td>\n",
       "      <td>7</td>\n",
       "      <td>usters</td>\n",
       "      <td>1</td>\n",
       "      <td>6</td>\n",
       "      <td>us ters</td>\n",
       "      <td>2</td>\n",
       "      <td>538251</td>\n",
       "    </tr>\n",
       "    <tr>\n",
       "      <th>3655339</th>\n",
       "      <td>i pemai</td>\n",
       "      <td>7</td>\n",
       "      <td>ipemai</td>\n",
       "      <td>1</td>\n",
       "      <td>6</td>\n",
       "      <td>i pemai</td>\n",
       "      <td>1</td>\n",
       "      <td>1306313</td>\n",
       "    </tr>\n",
       "  </tbody>\n",
       "</table>\n",
       "</div>"
      ],
      "text/plain": [
       "           slides  ori_len slides_no_space  space_cnt  slides_no_space_len  \\\n",
       "2938491   ideal s        7          ideals          1                    6   \n",
       "4142006   ihapus         7          ihapus          0                    6   \n",
       "3771475   anya pi        7          anyapi          1                    6   \n",
       "3599978    solskj        7          solskj          0                    6   \n",
       "3178669   upus te        7          upuste          1                    6   \n",
       "5690725  au hadi         8          auhadi          1                    6   \n",
       "2456941    pendap        6          pendap          0                    6   \n",
       "3598840   kan saa        7          kansaa          1                    6   \n",
       "2603627   us ters        7          usters          1                    6   \n",
       "3655339   i pemai        7          ipemai          1                    6   \n",
       "\n",
       "        slides_trim space_position       id  \n",
       "2938491     ideal s              5   782919  \n",
       "4142006      ihapus                 1662185  \n",
       "3771475     anya pi              4  1391002  \n",
       "3599978      solskj                 1266129  \n",
       "3178669     upus te              4   958387  \n",
       "5690725     au hadi              2  2222103  \n",
       "2456941      pendap                  454515  \n",
       "3598840     kan saa              3  1265300  \n",
       "2603627     us ters              2   538251  \n",
       "3655339     i pemai              1  1306313  "
      ]
     },
     "execution_count": 11,
     "metadata": {},
     "output_type": "execute_result"
    }
   ],
   "source": [
    "data_cln.sample(10)"
   ]
  },
  {
   "cell_type": "markdown",
   "metadata": {},
   "source": [
    "## Transform Data"
   ]
  },
  {
   "cell_type": "code",
   "execution_count": 12,
   "metadata": {},
   "outputs": [],
   "source": [
    "def target_generator(x):\n",
    "    basic=np.zeros(SEQ_LENGTH)\n",
    "    if len(x)==0:\n",
    "        return basic\n",
    "    else:\n",
    "        for x in x.split(','):\n",
    "            basic[int(x)-1]=1\n",
    "        return basic"
   ]
  },
  {
   "cell_type": "code",
   "execution_count": 13,
   "metadata": {},
   "outputs": [
    {
     "data": {
      "text/plain": [
       "array([0., 0., 0., 0., 0., 0.])"
      ]
     },
     "execution_count": 13,
     "metadata": {},
     "output_type": "execute_result"
    }
   ],
   "source": [
    "target_generator('')"
   ]
  },
  {
   "cell_type": "code",
   "execution_count": 14,
   "metadata": {},
   "outputs": [],
   "source": [
    "data_used=pd.concat([data_cln[data_cln.space_cnt==0].sample(30000,random_state=125),\n",
    "                     data_cln[data_cln.space_cnt==1].sample(40000,random_state=125),\n",
    "                     data_cln[data_cln.space_cnt==2].sample(35000,random_state=125)])"
   ]
  },
  {
   "cell_type": "code",
   "execution_count": 15,
   "metadata": {},
   "outputs": [
    {
     "data": {
      "text/plain": [
       "84000.0"
      ]
     },
     "execution_count": 15,
     "metadata": {},
     "output_type": "execute_result"
    }
   ],
   "source": [
    "len(data_used)*0.8"
   ]
  },
  {
   "cell_type": "code",
   "execution_count": 16,
   "metadata": {},
   "outputs": [],
   "source": [
    "data_used_train=data_used.sample(84000,random_state=143)\n",
    "data_used_test=data_used[~(data_used.id.isin(data_used_train.id))]"
   ]
  },
  {
   "cell_type": "code",
   "execution_count": 17,
   "metadata": {},
   "outputs": [],
   "source": [
    "## Target \n",
    "Y_tr=np.array(data_used_train.space_position.apply(target_generator).tolist(),dtype=np.double)\n",
    "# Y_tr=Y_tr.reshape(-1,SEQ_LENGTH,1)\n",
    "Y_te=np.array(data_used_test.space_position.apply(target_generator).tolist(),dtype=np.double)\n",
    "# Y_te=Y_te.reshape(-1,SEQ_LENGTH,1)\n",
    "\n",
    "# encoder = OneHotEncoder()\n",
    "# encoder.fit(Y_tr.reshape(-1,1))\n",
    "\n",
    "# Y_tr=encoder.transform(Y_tr.reshape(-1,1)).toarray().reshape(-1,SEQ_LENGTH,len(encoder.categories_[0]))\n",
    "# Y_te=encoder.transform(Y_te.reshape(-1,1)).toarray().reshape(-1,SEQ_LENGTH,len(encoder.categories_[0]))\n",
    "\n",
    "## Source\n",
    "X_tr=wst.char_vectorizer_word2vec(data_used_train.slides_no_space.tolist(), w2v, SEQ_LENGTH)\n",
    "X_te=wst.char_vectorizer_word2vec(data_used_test.slides_no_space.tolist(), w2v, SEQ_LENGTH)"
   ]
  },
  {
   "cell_type": "code",
   "execution_count": 18,
   "metadata": {},
   "outputs": [
    {
     "data": {
      "text/plain": [
       "(84000, 6, 50)"
      ]
     },
     "execution_count": 18,
     "metadata": {},
     "output_type": "execute_result"
    }
   ],
   "source": [
    "X_tr.shape"
   ]
  },
  {
   "cell_type": "code",
   "execution_count": 19,
   "metadata": {},
   "outputs": [
    {
     "data": {
      "text/plain": [
       "(21000, 6, 50)"
      ]
     },
     "execution_count": 19,
     "metadata": {},
     "output_type": "execute_result"
    }
   ],
   "source": [
    "X_te.shape"
   ]
  },
  {
   "cell_type": "code",
   "execution_count": 20,
   "metadata": {},
   "outputs": [
    {
     "data": {
      "text/plain": [
       "(84000, 6)"
      ]
     },
     "execution_count": 20,
     "metadata": {},
     "output_type": "execute_result"
    }
   ],
   "source": [
    "Y_tr.shape"
   ]
  },
  {
   "cell_type": "code",
   "execution_count": null,
   "metadata": {},
   "outputs": [],
   "source": []
  },
  {
   "cell_type": "markdown",
   "metadata": {},
   "source": [
    "## Prepare the Model"
   ]
  },
  {
   "cell_type": "code",
   "execution_count": 21,
   "metadata": {},
   "outputs": [],
   "source": [
    "class MultiLstm(torch.nn.Module):\n",
    "\n",
    "    def __init__(self, input_size, output_size, hidden_dim0, hidden_dim1, hidden_dim2, Layers):        \n",
    "        super(MultiLstm, self).__init__()\n",
    "        self.input_dim = input_size\n",
    "#         self.input_cnn = input_cnn_size\n",
    "        self.hidden_dim0 = hidden_dim0\n",
    "        self.hidden_dim1 = hidden_dim1\n",
    "        self.hidden_dim2 = hidden_dim2\n",
    "        \n",
    "        self.layer=Layers\n",
    "        # self.lstm = torch.nn.LSTM(self.input_dim, self.hidden_dim, self.num_layers)\n",
    "        self.relu = torch.nn.ReLU()\n",
    "        self.lstm1 = torch.nn.LSTM(self.input_dim, self.hidden_dim0)\n",
    "        self.lstm2 = torch.nn.LSTM(self.hidden_dim0, self.hidden_dim1)\n",
    "        self.lstm3 = torch.nn.LSTM(self.hidden_dim1, self.hidden_dim2, num_layers=Layers)\n",
    "        self.linear1 = torch.nn.Linear(self.hidden_dim2, self.hidden_dim2)\n",
    "        self.linear2 = torch.nn.Linear(self.hidden_dim2, output_size)\n",
    "        self.softmax = torch.nn.Softmax()\n",
    "        self.sigmoid = torch.nn.Sigmoid()\n",
    "\n",
    "    def forward(self, input):\n",
    "        torch.manual_seed(200)\n",
    "        batch_size=len(input)\n",
    "        embedding_len=len(input[0][0])        \n",
    "        input=input.view(batch_size,len(input[0]), -1)\n",
    "        \n",
    "        lstm_out, hidden1 = self.lstm1(input)\n",
    "        lstm_out, hidden2 = self.lstm2(lstm_out)\n",
    "        out, hidden3 = self.lstm3(lstm_out)\n",
    "        \n",
    "        y_pred = self.linear1(out)\n",
    "        y_pred = self.linear2(y_pred)\n",
    "\n",
    "        out_flat=y_pred.view(y_pred.size(0), -1)        \n",
    "#         y_pred = self.softmax(out_flat)\n",
    "        y_pred = self.sigmoid(out_flat)\n",
    "        \n",
    "        return y_pred\n",
    "    \n",
    "## Remember LSTM : Batch, Seq, Embedding\n",
    "## Conv : [batch_size, in_channels, Len Seq]\n",
    "# p = p.transpose(1, 2).transpose(0, 1)"
   ]
  },
  {
   "cell_type": "code",
   "execution_count": null,
   "metadata": {},
   "outputs": [],
   "source": []
  },
  {
   "cell_type": "code",
   "execution_count": 22,
   "metadata": {},
   "outputs": [],
   "source": [
    "# # Get the model\n",
    "# INPUT_LENGTH=50\n",
    "# LAYERS=3\n",
    "# HIDDEN_LAYER0=100\n",
    "# HIDDEN_LAYER1=20\n",
    "# HIDDEN_LAYER2=10\n",
    "\n",
    "# OUT_DIM=1\n",
    "# learningRate=0.0004\n",
    "\n",
    "# model_coba=MultiLstm(input_size=INPUT_LENGTH, output_size=OUT_DIM, hidden_dim0=HIDDEN_LAYER0, hidden_dim1=HIDDEN_LAYER1, hidden_dim2=HIDDEN_LAYER2, Layers=LAYERS)"
   ]
  },
  {
   "cell_type": "code",
   "execution_count": 23,
   "metadata": {},
   "outputs": [],
   "source": [
    "# XX=torch.rand(2,6,50)\n",
    "# # XX=torch.from_numpy(np.array([[[1,2,3,4],[5,6,7,8]],[[2,3,4,5],[6,7,8,9]],[[3,4,5,6],[7,8,9,0]]]))\n",
    "# model_coba(XX)\n",
    "# # XX[:,1]"
   ]
  },
  {
   "cell_type": "code",
   "execution_count": 24,
   "metadata": {},
   "outputs": [],
   "source": [
    "def data_batching_torch(X,y,batch):\n",
    "    batches=[(torch.from_numpy(X[i*(batch):i*(batch)+batch]).type('torch.DoubleTensor'),\n",
    "              torch.from_numpy(y[i*(batch):i*(batch)+batch]).type('torch.DoubleTensor'))   \n",
    "                  for i in range(int(len(X)/batch)+1)]\n",
    "    return batches"
   ]
  },
  {
   "cell_type": "code",
   "execution_count": 25,
   "metadata": {},
   "outputs": [
    {
     "data": {
      "text/plain": [
       "3361"
      ]
     },
     "execution_count": 25,
     "metadata": {},
     "output_type": "execute_result"
    }
   ],
   "source": [
    "BATCH_SIZE=25\n",
    "training_samples=data_batching_torch(X_tr,Y_tr,BATCH_SIZE)\n",
    "len(training_samples)"
   ]
  },
  {
   "cell_type": "code",
   "execution_count": 26,
   "metadata": {},
   "outputs": [],
   "source": [
    "random.seed(121)\n",
    "sample_val=random.sample(training_samples,335)\n",
    "sample_train=list(set(training_samples)-set(sample_val))"
   ]
  },
  {
   "cell_type": "code",
   "execution_count": 27,
   "metadata": {},
   "outputs": [
    {
     "data": {
      "text/plain": [
       "50"
      ]
     },
     "execution_count": 27,
     "metadata": {},
     "output_type": "execute_result"
    }
   ],
   "source": [
    "w2v.vector_size"
   ]
  },
  {
   "cell_type": "code",
   "execution_count": 28,
   "metadata": {},
   "outputs": [],
   "source": [
    "# Get the model\n",
    "INPUT_LENGTH=w2v.vector_size\n",
    "LAYERS=3\n",
    "HIDDEN_LAYER0=80\n",
    "HIDDEN_LAYER1=40\n",
    "HIDDEN_LAYER2=8\n",
    "OUT_DIM=1\n",
    "learningRate=0.005\n",
    "\n",
    "model_clstm=MultiLstm(input_size=INPUT_LENGTH, output_size=OUT_DIM, hidden_dim0=HIDDEN_LAYER0, hidden_dim1=HIDDEN_LAYER1,hidden_dim2=HIDDEN_LAYER2, Layers=LAYERS)"
   ]
  },
  {
   "cell_type": "code",
   "execution_count": 29,
   "metadata": {},
   "outputs": [],
   "source": [
    "## Choose the optimizer and criterion\n",
    "# criterion = torch.nn.CrossEntropyLoss()\n",
    "# criterion = torch.nn.BCELoss()\n",
    "criterion = torch.nn.MultiLabelSoftMarginLoss()\n",
    "# optimizer = torch.optim.Adam(model_clstm.parameters(),lr=learningRate)\n",
    "optimizer = torch.optim.SGD(model_clstm.parameters(),\n",
    "                            lr=learningRate,weight_decay=0.003)"
   ]
  },
  {
   "cell_type": "code",
   "execution_count": 30,
   "metadata": {},
   "outputs": [],
   "source": [
    "AA=training_samples[0][1]"
   ]
  },
  {
   "cell_type": "code",
   "execution_count": 31,
   "metadata": {},
   "outputs": [
    {
     "data": {
      "text/plain": [
       "'torch.DoubleTensor'"
      ]
     },
     "execution_count": 31,
     "metadata": {},
     "output_type": "execute_result"
    }
   ],
   "source": [
    "AA.type()"
   ]
  },
  {
   "cell_type": "code",
   "execution_count": null,
   "metadata": {},
   "outputs": [],
   "source": []
  },
  {
   "cell_type": "markdown",
   "metadata": {},
   "source": [
    "## Train it"
   ]
  },
  {
   "cell_type": "code",
   "execution_count": 32,
   "metadata": {},
   "outputs": [],
   "source": [
    "running_loss_train_ls=[]\n",
    "running_loss_test_ls=[]"
   ]
  },
  {
   "cell_type": "code",
   "execution_count": 36,
   "metadata": {},
   "outputs": [
    {
     "name": "stdout",
     "output_type": "stream",
     "text": [
      "----------0----------\n",
      "running loss train 0.695744319203888\n",
      "running loss val 0.6957256912912827\n",
      "time every epoch: 2.313006297747294\n",
      "----------8----------\n",
      "running loss train 0.6957301723420732\n",
      "running loss val 0.6957116500571522\n",
      "time every epoch: 2.149244765440623\n",
      "----------16----------\n",
      "running loss train 0.6957174575994393\n",
      "running loss val 0.6956990091452511\n",
      "time every epoch: 2.321170465151469\n",
      "----------24----------\n",
      "running loss train 0.6957058566268428\n",
      "running loss val 0.6956874593633711\n",
      "time every epoch: 2.119012971719106\n",
      "----------32----------\n",
      "running loss train 0.6956951460262398\n",
      "running loss val 0.6956767838352028\n",
      "time every epoch: 2.140433684984843\n",
      "----------40----------\n",
      "running loss train 0.6956851689716538\n",
      "running loss val 0.6956668303406447\n",
      "time every epoch: 2.0862669189771017\n",
      "----------48----------\n",
      "running loss train 0.6956758149839449\n",
      "running loss val 0.6956574916600063\n",
      "time every epoch: 2.133698519070943\n",
      "----------56----------\n",
      "running loss train 0.6956670058029512\n",
      "running loss val 0.6956486918501529\n",
      "time every epoch: 2.0735881010691326\n",
      "----------64----------\n",
      "running loss train 0.6956586855121764\n",
      "running loss val 0.6956403766490097\n",
      "time every epoch: 2.081348200639089\n",
      "----------72----------\n",
      "running loss train 0.695650813600108\n",
      "running loss val 0.6956325067310196\n",
      "time every epoch: 2.186752434571584\n"
     ]
    }
   ],
   "source": [
    "epochs=80\n",
    "model_clstm.double()\n",
    "\n",
    "for epoch in range(epochs):\n",
    "    L=time.time()\n",
    "    model_clstm.train()\n",
    "    running_loss_train = 0\n",
    "    running_loss_test = 0\n",
    "    # Converting inputs and labels to Variable\n",
    "    \n",
    "    for batch_idx, (data, target) in enumerate(sample_train, 1):\n",
    "        if data.size()[0]>0:\n",
    "            inputs = Variable(data)\n",
    "            labels = Variable(target)\n",
    "            optimizer.zero_grad()\n",
    "            outputs= model_clstm(inputs)\n",
    "            \n",
    "            # get loss for the predicted output\n",
    "            loss = criterion(outputs, labels)\n",
    "            loss.backward()\n",
    "            \n",
    "            # update parameters\n",
    "            optimizer.step()\n",
    "            running_loss_train += (loss.item() - running_loss_train) / batch_idx\n",
    "            \n",
    "    model_clstm.eval()\n",
    "    with torch.no_grad():\n",
    "        for batch_idx, (data, target) in enumerate(sample_val, 1):\n",
    "            if data.size()[0]>0:\n",
    "                inputs = Variable(data)\n",
    "                labels = Variable(target)\n",
    "                outputs= model_clstm(inputs)\n",
    "                loss = criterion(outputs, labels)\n",
    "                running_loss_test += (loss.item() - running_loss_test) / batch_idx\n",
    "    \n",
    "    running_loss_train_ls.append(running_loss_train)\n",
    "    running_loss_test_ls.append(running_loss_test)\n",
    "        \n",
    "    if epoch % 8 == 0:\n",
    "        print('----------'+str(epoch)+'----------')\n",
    "        print(\"running loss train\", running_loss_train)\n",
    "        print(\"running loss val\", running_loss_test)\n",
    "        print(\"time every epoch: \"+str((time.time()-L)/60))"
   ]
  },
  {
   "cell_type": "code",
   "execution_count": 39,
   "metadata": {},
   "outputs": [
    {
     "data": {
      "text/plain": [
       "<matplotlib.axes._subplots.AxesSubplot at 0x1b81b855f8>"
      ]
     },
     "execution_count": 39,
     "metadata": {},
     "output_type": "execute_result"
    },
    {
     "data": {
      "image/png": "[encoded data removed]",
      "text/plain": [
       "<Figure size 432x288 with 1 Axes>"
      ]
     },
     "metadata": {
      "needs_background": "light"
     },
     "output_type": "display_data"
    }
   ],
   "source": [
    "data_eval=pd.DataFrame({'train':running_loss_train_ls,'val':running_loss_test_ls})\n",
    "data_eval[10:].plot()"
   ]
  },
  {
   "cell_type": "code",
   "execution_count": null,
   "metadata": {},
   "outputs": [],
   "source": []
  },
  {
   "cell_type": "code",
   "execution_count": 57,
   "metadata": {},
   "outputs": [
    {
     "data": {
      "text/plain": [
       "2"
      ]
     },
     "execution_count": 57,
     "metadata": {},
     "output_type": "execute_result"
    }
   ],
   "source": [
    "1+1"
   ]
  },
  {
   "cell_type": "code",
   "execution_count": 20,
   "metadata": {},
   "outputs": [
    {
     "data": {
      "text/plain": [
       "ModelLstm(\n",
       "  (lstm): LSTM(26, 25)\n",
       "  (linear): Linear(in_features=25, out_features=15, bias=False)\n",
       "  (sigmoid): Sigmoid()\n",
       ")"
      ]
     },
     "execution_count": 20,
     "metadata": {},
     "output_type": "execute_result"
    }
   ],
   "source": [
    "model.eval()"
   ]
  },
  {
   "cell_type": "code",
   "execution_count": 21,
   "metadata": {},
   "outputs": [],
   "source": [
    "## Training\n",
    "XX=X_tr.copy()\n",
    "XX=Variable(torch.from_numpy(XX).type('torch.DoubleTensor'))\n",
    "yy=model(XX)"
   ]
  },
  {
   "cell_type": "code",
   "execution_count": 33,
   "metadata": {},
   "outputs": [
    {
     "data": {
      "text/plain": [
       "['000000000000000',\n",
       " '000000000000000',\n",
       " '000000000000000',\n",
       " '000000000000000',\n",
       " '000000000000000',\n",
       " '000000000000000',\n",
       " '000000000000000',\n",
       " '000000000000000',\n",
       " '000000000000000',\n",
       " '000000000000000']"
      ]
     },
     "execution_count": 33,
     "metadata": {},
     "output_type": "execute_result"
    }
   ],
   "source": [
    "yy0=yy[0].data.numpy()\n",
    "yy0=(yy0>0.5).astype(int).astype(str)\n",
    "yy0=[''.join(i) for i in yy0]\n",
    "yy0[:10]"
   ]
  },
  {
   "cell_type": "code",
   "execution_count": 34,
   "metadata": {},
   "outputs": [],
   "source": [
    "data_used_train['y_pred']=yy0"
   ]
  },
  {
   "cell_type": "code",
   "execution_count": 36,
   "metadata": {},
   "outputs": [
    {
     "data": {
      "text/html": [
       "<div>\n",
       "<style scoped>\n",
       "    .dataframe tbody tr th:only-of-type {\n",
       "        vertical-align: middle;\n",
       "    }\n",
       "\n",
       "    .dataframe tbody tr th {\n",
       "        vertical-align: top;\n",
       "    }\n",
       "\n",
       "    .dataframe thead th {\n",
       "        text-align: right;\n",
       "    }\n",
       "</style>\n",
       "<table border=\"1\" class=\"dataframe\">\n",
       "  <thead>\n",
       "    <tr style=\"text-align: right;\">\n",
       "      <th></th>\n",
       "      <th>source</th>\n",
       "      <th>target</th>\n",
       "      <th>ids</th>\n",
       "      <th>flag_space</th>\n",
       "      <th>y_pred</th>\n",
       "    </tr>\n",
       "  </thead>\n",
       "  <tbody>\n",
       "    <tr>\n",
       "      <th>50144</th>\n",
       "      <td>melainkandaerah</td>\n",
       "      <td>melainkan daerah</td>\n",
       "      <td>1637189</td>\n",
       "      <td>000000001000000</td>\n",
       "      <td>000000000000000</td>\n",
       "    </tr>\n",
       "    <tr>\n",
       "      <th>67640</th>\n",
       "      <td>menegaskantiket</td>\n",
       "      <td>menegaskan tiket</td>\n",
       "      <td>1719973</td>\n",
       "      <td>000000000100000</td>\n",
       "      <td>000000000000000</td>\n",
       "    </tr>\n",
       "    <tr>\n",
       "      <th>87884</th>\n",
       "      <td>pelakusetiapini</td>\n",
       "      <td>pelaku setiap ini</td>\n",
       "      <td>1815936</td>\n",
       "      <td>000001000001000</td>\n",
       "      <td>000000000000000</td>\n",
       "    </tr>\n",
       "    <tr>\n",
       "      <th>32800</th>\n",
       "      <td>tahunberbobotdi</td>\n",
       "      <td>tahun berbobot di</td>\n",
       "      <td>1554907</td>\n",
       "      <td>000010000000100</td>\n",
       "      <td>000000000000000</td>\n",
       "    </tr>\n",
       "    <tr>\n",
       "      <th>60884</th>\n",
       "      <td>terpopulerdalam</td>\n",
       "      <td>terpopuler dalam</td>\n",
       "      <td>1687901</td>\n",
       "      <td>000000000100000</td>\n",
       "      <td>000000000000000</td>\n",
       "    </tr>\n",
       "    <tr>\n",
       "      <th>15182</th>\n",
       "      <td>identikinisudah</td>\n",
       "      <td>identik ini sudah</td>\n",
       "      <td>1471301</td>\n",
       "      <td>000000100100000</td>\n",
       "      <td>000000000000000</td>\n",
       "    </tr>\n",
       "    <tr>\n",
       "      <th>65497</th>\n",
       "      <td>denganpekerjaan</td>\n",
       "      <td>dengan pekerjaan</td>\n",
       "      <td>1709857</td>\n",
       "      <td>000001000000000</td>\n",
       "      <td>000000000000000</td>\n",
       "    </tr>\n",
       "    <tr>\n",
       "      <th>48114</th>\n",
       "      <td>mobiltahunsedan</td>\n",
       "      <td>mobil tahun sedan</td>\n",
       "      <td>1627587</td>\n",
       "      <td>000010000100000</td>\n",
       "      <td>000000000000000</td>\n",
       "    </tr>\n",
       "    <tr>\n",
       "      <th>58791</th>\n",
       "      <td>terkaitterhadap</td>\n",
       "      <td>terkait terhadap</td>\n",
       "      <td>1678152</td>\n",
       "      <td>000000100000000</td>\n",
       "      <td>000000000000000</td>\n",
       "    </tr>\n",
       "    <tr>\n",
       "      <th>31506</th>\n",
       "      <td>sertatariftahap</td>\n",
       "      <td>serta tarif tahap</td>\n",
       "      <td>1548878</td>\n",
       "      <td>000010000100000</td>\n",
       "      <td>000000000000000</td>\n",
       "    </tr>\n",
       "  </tbody>\n",
       "</table>\n",
       "</div>"
      ],
      "text/plain": [
       "                source             target      ids       flag_space  \\\n",
       "50144  melainkandaerah   melainkan daerah  1637189  000000001000000   \n",
       "67640  menegaskantiket   menegaskan tiket  1719973  000000000100000   \n",
       "87884  pelakusetiapini  pelaku setiap ini  1815936  000001000001000   \n",
       "32800  tahunberbobotdi  tahun berbobot di  1554907  000010000000100   \n",
       "60884  terpopulerdalam   terpopuler dalam  1687901  000000000100000   \n",
       "15182  identikinisudah  identik ini sudah  1471301  000000100100000   \n",
       "65497  denganpekerjaan   dengan pekerjaan  1709857  000001000000000   \n",
       "48114  mobiltahunsedan  mobil tahun sedan  1627587  000010000100000   \n",
       "58791  terkaitterhadap   terkait terhadap  1678152  000000100000000   \n",
       "31506  sertatariftahap  serta tarif tahap  1548878  000010000100000   \n",
       "\n",
       "                y_pred  \n",
       "50144  000000000000000  \n",
       "67640  000000000000000  \n",
       "87884  000000000000000  \n",
       "32800  000000000000000  \n",
       "60884  000000000000000  \n",
       "15182  000000000000000  \n",
       "65497  000000000000000  \n",
       "48114  000000000000000  \n",
       "58791  000000000000000  \n",
       "31506  000000000000000  "
      ]
     },
     "execution_count": 36,
     "metadata": {},
     "output_type": "execute_result"
    }
   ],
   "source": [
    "data_used_train.sample(10)"
   ]
  },
  {
   "cell_type": "code",
   "execution_count": null,
   "metadata": {},
   "outputs": [],
   "source": []
  },
  {
   "cell_type": "code",
   "execution_count": null,
   "metadata": {},
   "outputs": [],
   "source": []
  },
  {
   "cell_type": "markdown",
   "metadata": {},
   "source": [
    "## Test it"
   ]
  },
  {
   "cell_type": "code",
   "execution_count": 37,
   "metadata": {},
   "outputs": [],
   "source": [
    "## Test it\n",
    "XX=X_te.copy()\n",
    "XX=Variable(torch.from_numpy(XX).type('torch.DoubleTensor'))\n",
    "yy=model(XX)"
   ]
  },
  {
   "cell_type": "code",
   "execution_count": 38,
   "metadata": {},
   "outputs": [
    {
     "data": {
      "text/plain": [
       "['000000000000000',\n",
       " '000000000000000',\n",
       " '000000000000000',\n",
       " '000000000000000',\n",
       " '000000000000000',\n",
       " '000000000000000',\n",
       " '000000000000000',\n",
       " '000000000000000',\n",
       " '000000000000000',\n",
       " '000000000000000']"
      ]
     },
     "execution_count": 38,
     "metadata": {},
     "output_type": "execute_result"
    }
   ],
   "source": [
    "yy0=yy[0].data.numpy()\n",
    "yy0=(yy0>0.5).astype(int).astype(str)\n",
    "yy0=[''.join(i) for i in yy0]\n",
    "yy0[:10]"
   ]
  },
  {
   "cell_type": "code",
   "execution_count": 39,
   "metadata": {},
   "outputs": [
    {
     "name": "stderr",
     "output_type": "stream",
     "text": [
      "/Users/alamhanz/anaconda/envs/word_s/lib/python3.7/site-packages/ipykernel/__main__.py:1: SettingWithCopyWarning: \n",
      "A value is trying to be set on a copy of a slice from a DataFrame.\n",
      "Try using .loc[row_indexer,col_indexer] = value instead\n",
      "\n",
      "See the caveats in the documentation: http://pandas.pydata.org/pandas-docs/stable/indexing.html#indexing-view-versus-copy\n",
      "  if __name__ == '__main__':\n"
     ]
    }
   ],
   "source": [
    "data_used_test['y_pred']=yy0"
   ]
  },
  {
   "cell_type": "code",
   "execution_count": 40,
   "metadata": {},
   "outputs": [
    {
     "data": {
      "text/html": [
       "<div>\n",
       "<style scoped>\n",
       "    .dataframe tbody tr th:only-of-type {\n",
       "        vertical-align: middle;\n",
       "    }\n",
       "\n",
       "    .dataframe tbody tr th {\n",
       "        vertical-align: top;\n",
       "    }\n",
       "\n",
       "    .dataframe thead th {\n",
       "        text-align: right;\n",
       "    }\n",
       "</style>\n",
       "<table border=\"1\" class=\"dataframe\">\n",
       "  <thead>\n",
       "    <tr style=\"text-align: right;\">\n",
       "      <th></th>\n",
       "      <th>source</th>\n",
       "      <th>target</th>\n",
       "      <th>ids</th>\n",
       "      <th>flag_space</th>\n",
       "      <th>y_pred</th>\n",
       "    </tr>\n",
       "  </thead>\n",
       "  <tbody>\n",
       "    <tr>\n",
       "      <th>12342</th>\n",
       "      <td>sepakperusahaan</td>\n",
       "      <td>sepak perusahaan</td>\n",
       "      <td>1457750</td>\n",
       "      <td>000010000000000</td>\n",
       "      <td>000000000000000</td>\n",
       "    </tr>\n",
       "    <tr>\n",
       "      <th>9138</th>\n",
       "      <td>miliarmelakukan</td>\n",
       "      <td>miliar melakukan</td>\n",
       "      <td>1442854</td>\n",
       "      <td>000001000000000</td>\n",
       "      <td>000000000000000</td>\n",
       "    </tr>\n",
       "    <tr>\n",
       "      <th>3403</th>\n",
       "      <td>asalpendaftaran</td>\n",
       "      <td>asal pendaftaran</td>\n",
       "      <td>1416167</td>\n",
       "      <td>000100000000000</td>\n",
       "      <td>000000000000000</td>\n",
       "    </tr>\n",
       "    <tr>\n",
       "      <th>74342</th>\n",
       "      <td>jelasnyastadium</td>\n",
       "      <td>jelasnya stadium</td>\n",
       "      <td>1751813</td>\n",
       "      <td>000000010000000</td>\n",
       "      <td>000000000000000</td>\n",
       "    </tr>\n",
       "    <tr>\n",
       "      <th>12597</th>\n",
       "      <td>cmnphargaplakat</td>\n",
       "      <td>cmnp harga plakat</td>\n",
       "      <td>1459043</td>\n",
       "      <td>000100001000000</td>\n",
       "      <td>000000000000000</td>\n",
       "    </tr>\n",
       "    <tr>\n",
       "      <th>86940</th>\n",
       "      <td>bahwadenganyang</td>\n",
       "      <td>bahwa dengan yang</td>\n",
       "      <td>1811573</td>\n",
       "      <td>000010000010000</td>\n",
       "      <td>000000000000000</td>\n",
       "    </tr>\n",
       "    <tr>\n",
       "      <th>54344</th>\n",
       "      <td>terjadibniingin</td>\n",
       "      <td>terjadi bni ingin</td>\n",
       "      <td>1657235</td>\n",
       "      <td>000000100100000</td>\n",
       "      <td>000000000000000</td>\n",
       "    </tr>\n",
       "    <tr>\n",
       "      <th>8989</th>\n",
       "      <td>untuktetappiper</td>\n",
       "      <td>untuk tetap piper</td>\n",
       "      <td>1442103</td>\n",
       "      <td>000010000100000</td>\n",
       "      <td>000000000000000</td>\n",
       "    </tr>\n",
       "    <tr>\n",
       "      <th>15108</th>\n",
       "      <td>ratelalusamping</td>\n",
       "      <td>rate lalu samping</td>\n",
       "      <td>1471008</td>\n",
       "      <td>000100010000000</td>\n",
       "      <td>000000000000000</td>\n",
       "    </tr>\n",
       "    <tr>\n",
       "      <th>28477</th>\n",
       "      <td>danyangnokiadwi</td>\n",
       "      <td>dan yang nokia dwi</td>\n",
       "      <td>1534286</td>\n",
       "      <td>001000100001000</td>\n",
       "      <td>000000000000000</td>\n",
       "    </tr>\n",
       "  </tbody>\n",
       "</table>\n",
       "</div>"
      ],
      "text/plain": [
       "                source              target      ids       flag_space  \\\n",
       "12342  sepakperusahaan    sepak perusahaan  1457750  000010000000000   \n",
       "9138   miliarmelakukan    miliar melakukan  1442854  000001000000000   \n",
       "3403   asalpendaftaran    asal pendaftaran  1416167  000100000000000   \n",
       "74342  jelasnyastadium    jelasnya stadium  1751813  000000010000000   \n",
       "12597  cmnphargaplakat   cmnp harga plakat  1459043  000100001000000   \n",
       "86940  bahwadenganyang   bahwa dengan yang  1811573  000010000010000   \n",
       "54344  terjadibniingin   terjadi bni ingin  1657235  000000100100000   \n",
       "8989   untuktetappiper   untuk tetap piper  1442103  000010000100000   \n",
       "15108  ratelalusamping   rate lalu samping  1471008  000100010000000   \n",
       "28477  danyangnokiadwi  dan yang nokia dwi  1534286  001000100001000   \n",
       "\n",
       "                y_pred  \n",
       "12342  000000000000000  \n",
       "9138   000000000000000  \n",
       "3403   000000000000000  \n",
       "74342  000000000000000  \n",
       "12597  000000000000000  \n",
       "86940  000000000000000  \n",
       "54344  000000000000000  \n",
       "8989   000000000000000  \n",
       "15108  000000000000000  \n",
       "28477  000000000000000  "
      ]
     },
     "execution_count": 40,
     "metadata": {},
     "output_type": "execute_result"
    }
   ],
   "source": [
    "data_used_train.sample(10)"
   ]
  },
  {
   "cell_type": "code",
   "execution_count": null,
   "metadata": {},
   "outputs": [],
   "source": []
  }
 ],
 "metadata": {
  "kernelspec": {
   "display_name": "Python [conda env:word_s]",
   "language": "python",
   "name": "conda-env-word_s-py"
  },
  "language_info": {
   "codemirror_mode": {
    "name": "ipython",
    "version": 3
   },
   "file_extension": ".py",
   "mimetype": "text/x-python",
   "name": "python",
   "nbconvert_exporter": "python",
   "pygments_lexer": "ipython3",
   "version": "3.7.3"
  }
 },
 "nbformat": 4,
 "nbformat_minor": 2
}
